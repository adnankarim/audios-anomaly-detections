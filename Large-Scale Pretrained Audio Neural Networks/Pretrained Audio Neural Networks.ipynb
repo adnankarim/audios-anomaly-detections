{
  "cells": [
    {
      "cell_type": "markdown",
      "id": "82d1b827",
      "metadata": {},
      "source": [
        "# Large-Scale Pretrained Audio Neural Networks Autoencoder for DCASE‑Inspired Anomalous Sound Detection\n"
      ]
    },
    {
      "cell_type": "code",
      "execution_count": 2,
      "id": "edede42a",
      "metadata": {},
      "outputs": [],
      "source": [
        "# Install dependencies if needed\n",
        "# !pip install torch torchvision torchaudio librosa tqdm scikit-learn"
      ]
    },
    {
      "cell_type": "code",
      "execution_count": 3,
      "id": "cd63731a",
      "metadata": {},
      "outputs": [],
      "source": [
        "import os, glob, random, numpy as np\n",
        "import torch\n",
        "import torchaudio\n",
        "import matplotlib.pyplot as plt\n",
        "from torch import nn\n",
        "from torch.utils.data import Dataset, DataLoader\n",
        "from sklearn.metrics import roc_auc_score\n",
        "from tqdm import tqdm\n"
      ]
    },
    {
      "cell_type": "markdown",
      "id": "02180025",
      "metadata": {},
      "source": [
        "## Data Prep & PANN Embedding Extraction"
      ]
    },
    {
      "cell_type": "code",
      "execution_count": 4,
      "id": "2270f05f",
      "metadata": {},
      "outputs": [
        {
          "name": "stdout",
          "output_type": "stream",
          "text": [
            "Checkpoint path: C:\\Users\\dell/panns_data/Cnn14_mAP=0.431.pth\n",
            "Using CPU.\n"
          ]
        },
        {
          "name": "stderr",
          "output_type": "stream",
          "text": [
            "                                                       \r"
          ]
        }
      ],
      "source": [
        "TRAIN_WAV = 'DATA/dev_data/dev_data/slider/train'\n",
        "TEST_WAV  = 'DATA/dev_data/dev_data/slider/test'\n",
        "EMB_DIR   = 'DATA/embeddings_panns'\n",
        "os.makedirs(f'{EMB_DIR}/train', exist_ok=True)\n",
        "os.makedirs(f'{EMB_DIR}/test',  exist_ok=True)\n",
        "\n",
        "# Import PANNs Inference API\n",
        "from panns_inference import AudioTagging\n",
        "\n",
        "# Initialize AudioTagging (uses pretrained CNN14_16k under the hood)\n",
        "DEVICE = torch.device('cuda' if torch.cuda.is_available() else 'cpu')\n",
        "at = AudioTagging(checkpoint_path=None, device=DEVICE)\n",
        "\n",
        "# Function to extract and save embeddings from PANNs\n",
        "import torchaudio.functional as Ffunc\n",
        "\n",
        "def extract_save(wav_list, split):\n",
        "    out_dir = os.path.join(EMB_DIR, split)\n",
        "    for wav in tqdm(wav_list, desc=f'Extract {split}', leave=False):\n",
        "        name = os.path.basename(wav).replace('.wav', '.npy')\n",
        "        out_path = os.path.join(out_dir, name)\n",
        "        if os.path.exists(out_path):\n",
        "            continue\n",
        "        y, sr = torchaudio.load(wav)\n",
        "        # PANNs Inference expects 32 kHz\n",
        "        if sr != 32000:\n",
        "            y = Ffunc.resample(y, sr, 32000)\n",
        "        # to numpy batch\n",
        "        y_np = y.squeeze(0).cpu().numpy()[None, :]\n",
        "        # get clipwise embedding\n",
        "        _, emb = at.inference(y_np)\n",
        "        emb = emb[0]  # shape: [2048]\n",
        "        np.save(out_path, emb)\n",
        "\n",
        "# Run extraction on train & test sets\n",
        "train_files = sorted(glob.glob(os.path.join(TRAIN_WAV, '*.wav')))\n",
        "test_files  = sorted(glob.glob(os.path.join(TEST_WAV,  '*.wav')))\n",
        "extract_save(train_files, 'train')\n",
        "extract_save(test_files,  'test')"
      ]
    },
    {
      "cell_type": "markdown",
      "id": "12230858",
      "metadata": {},
      "source": [
        "## Dataset & DataLoader"
      ]
    },
    {
      "cell_type": "code",
      "execution_count": 5,
      "id": "3c29a04e",
      "metadata": {},
      "outputs": [],
      "source": [
        "class PannsDataset(Dataset):\n",
        "    def __init__(self, folder):\n",
        "        self.files = sorted(glob.glob(os.path.join(folder, '*.npy')))\n",
        "    def __len__(self): return len(self.files)\n",
        "    def __getitem__(self, idx):\n",
        "        arr = np.load(self.files[idx])  # [2048]\n",
        "        x = torch.tensor(arr, dtype=torch.float32)\n",
        "        label = 0 if 'normal' in self.files[idx].lower() else 1\n",
        "        return x, label\n",
        "BATCH=512\n",
        "train_ds = PannsDataset(f'{EMB_DIR}/train')\n",
        "test_ds  = PannsDataset(f'{EMB_DIR}/test')\n",
        "train_dl = DataLoader(train_ds, batch_size=BATCH, shuffle=True, num_workers=0)\n",
        "test_dl  = DataLoader(test_ds,  batch_size=BATCH, shuffle=False, num_workers=0)"
      ]
    },
    {
      "cell_type": "markdown",
      "id": "6ea511ba",
      "metadata": {},
      "source": [
        "## Fully‑Connected Autoencoder on PANN Embeddings"
      ]
    },
    {
      "cell_type": "code",
      "execution_count": 15,
      "id": "f4d13d13",
      "metadata": {},
      "outputs": [
        {
          "name": "stdout",
          "output_type": "stream",
          "text": [
            "FCUnetAE(\n",
            "  (enc_layers): ModuleList(\n",
            "    (0): Sequential(\n",
            "      (0): Linear(in_features=2048, out_features=1024, bias=True)\n",
            "      (1): ReLU(inplace=True)\n",
            "      (2): Dropout(p=0.2, inplace=False)\n",
            "    )\n",
            "    (1): Sequential(\n",
            "      (0): Linear(in_features=1024, out_features=512, bias=True)\n",
            "      (1): ReLU(inplace=True)\n",
            "      (2): Dropout(p=0.2, inplace=False)\n",
            "    )\n",
            "    (2): Sequential(\n",
            "      (0): Linear(in_features=512, out_features=256, bias=True)\n",
            "      (1): ReLU(inplace=True)\n",
            "      (2): Dropout(p=0.2, inplace=False)\n",
            "    )\n",
            "  )\n",
            "  (bottleneck): Sequential(\n",
            "    (0): Linear(in_features=256, out_features=128, bias=True)\n",
            "    (1): ReLU(inplace=True)\n",
            "    (2): Dropout(p=0.2, inplace=False)\n",
            "    (3): Linear(in_features=128, out_features=256, bias=True)\n",
            "    (4): ReLU(inplace=True)\n",
            "    (5): Dropout(p=0.2, inplace=False)\n",
            "  )\n",
            "  (dec_layers): ModuleList(\n",
            "    (0): Sequential(\n",
            "      (0): Linear(in_features=512, out_features=256, bias=True)\n",
            "      (1): ReLU(inplace=True)\n",
            "    )\n",
            "    (1): Sequential(\n",
            "      (0): Linear(in_features=768, out_features=512, bias=True)\n",
            "      (1): ReLU(inplace=True)\n",
            "    )\n",
            "    (2): Sequential(\n",
            "      (0): Linear(in_features=1536, out_features=1024, bias=True)\n",
            "      (1): ReLU(inplace=True)\n",
            "    )\n",
            "    (3): Sequential(\n",
            "      (0): Linear(in_features=1024, out_features=2048, bias=True)\n",
            "      (1): Identity()\n",
            "    )\n",
            "  )\n",
            ")\n"
          ]
        }
      ],
      "source": [
        "import torch\n",
        "import torch.nn as nn\n",
        "\n",
        "class FCUnetAE(nn.Module):\n",
        "    def __init__(self,\n",
        "                 input_dim=2048,\n",
        "                 hidden_dims=(1024, 512, 256),\n",
        "                 latent_dim=128,\n",
        "                 dropout=0.2):\n",
        "        super().__init__()\n",
        "        # 1) Encoder\n",
        "        enc_dims = [input_dim] + list(hidden_dims)\n",
        "        self.enc_layers = nn.ModuleList()\n",
        "        for in_d, out_d in zip(enc_dims[:-1], enc_dims[1:]):\n",
        "            self.enc_layers.append(nn.Sequential(\n",
        "                nn.Linear(in_d, out_d),\n",
        "                nn.ReLU(inplace=True),\n",
        "                nn.Dropout(dropout),\n",
        "            ))\n",
        "\n",
        "        # 2) Bottleneck (compress → expand back)\n",
        "        self.bottleneck = nn.Sequential(\n",
        "            nn.Linear(hidden_dims[-1], latent_dim),\n",
        "            nn.ReLU(inplace=True),\n",
        "            nn.Dropout(dropout),\n",
        "            nn.Linear(latent_dim, hidden_dims[-1]),\n",
        "            nn.ReLU(inplace=True),\n",
        "            nn.Dropout(dropout),\n",
        "        )\n",
        "\n",
        "        # 3) Decoder: for each skip-connection, cat then map back\n",
        "        #    We build one Linear per skip, plus a final Linear back to input_dim.\n",
        "        skips = hidden_dims  # [1024, 512, 256]\n",
        "        dec_in_dims = []\n",
        "        dec_out_dims = []\n",
        "\n",
        "        x_dim = hidden_dims[-1]  # start from bottleneck output (256)\n",
        "        for skip_dim in reversed(skips):\n",
        "            dec_in_dims.append(x_dim + skip_dim)\n",
        "            dec_out_dims.append(skip_dim)\n",
        "            x_dim = skip_dim\n",
        "\n",
        "        # final step: map back from x_dim (=hidden_dims[0]=1024) → input_dim\n",
        "        dec_in_dims.append(x_dim)\n",
        "        dec_out_dims.append(input_dim)\n",
        "\n",
        "        self.dec_layers = nn.ModuleList()\n",
        "        for in_d, out_d in zip(dec_in_dims, dec_out_dims):\n",
        "            # use Identity at the very end (no ReLU), else ReLU\n",
        "            act = nn.Identity() if out_d == input_dim else nn.ReLU(inplace=True)\n",
        "            self.dec_layers.append(nn.Sequential(\n",
        "                nn.Linear(in_d, out_d),\n",
        "                act\n",
        "            ))\n",
        "\n",
        "    def forward(self, x):\n",
        "        # x: [B, 2048]\n",
        "        skips = []\n",
        "        for enc in self.enc_layers:\n",
        "            x = enc(x)\n",
        "            skips.append(x)\n",
        "\n",
        "        x = self.bottleneck(x)\n",
        "\n",
        "        # Decoder: use skips in reverse order\n",
        "        for dec, skip in zip(self.dec_layers[:-1], reversed(skips)):\n",
        "            x = torch.cat([x, skip], dim=1)\n",
        "            x = dec(x)\n",
        "\n",
        "        # final layer (no skip)\n",
        "        x = self.dec_layers[-1](x)\n",
        "        return x\n",
        "\n",
        "# Example instantiation\n",
        "model = FCUnetAE(\n",
        "    input_dim=2048,\n",
        "    hidden_dims=(1024, 512, 256),\n",
        "    latent_dim=128,\n",
        "    dropout=0.2\n",
        ").to(DEVICE)\n",
        "\n",
        "print(model)\n"
      ]
    },
    {
      "cell_type": "markdown",
      "id": "23b0eefd",
      "metadata": {},
      "source": [
        "## Training Loop"
      ]
    },
    {
      "cell_type": "code",
      "execution_count": 16,
      "id": "b73d1166",
      "metadata": {},
      "outputs": [
        {
          "name": "stderr",
          "output_type": "stream",
          "text": [
            "Epoch 1/500: 100%|██████████| 5/5 [00:00<00:00,  6.01it/s]\n"
          ]
        },
        {
          "name": "stdout",
          "output_type": "stream",
          "text": [
            "Epoch 1 Loss: 0.034790\n",
            "--> New best model saved at epoch 1 with loss 0.034790\n"
          ]
        },
        {
          "name": "stderr",
          "output_type": "stream",
          "text": [
            "Epoch 2/500: 100%|██████████| 5/5 [00:00<00:00,  6.43it/s]\n"
          ]
        },
        {
          "name": "stdout",
          "output_type": "stream",
          "text": [
            "Epoch 2 Loss: 0.013071\n",
            "--> New best model saved at epoch 2 with loss 0.013071\n"
          ]
        },
        {
          "name": "stderr",
          "output_type": "stream",
          "text": [
            "Epoch 3/500: 100%|██████████| 5/5 [00:00<00:00,  6.43it/s]\n"
          ]
        },
        {
          "name": "stdout",
          "output_type": "stream",
          "text": [
            "Epoch 3 Loss: 0.010077\n",
            "--> New best model saved at epoch 3 with loss 0.010077\n"
          ]
        },
        {
          "name": "stderr",
          "output_type": "stream",
          "text": [
            "Epoch 4/500: 100%|██████████| 5/5 [00:00<00:00,  6.42it/s]\n"
          ]
        },
        {
          "name": "stdout",
          "output_type": "stream",
          "text": [
            "Epoch 4 Loss: 0.008555\n",
            "--> New best model saved at epoch 4 with loss 0.008555\n"
          ]
        },
        {
          "name": "stderr",
          "output_type": "stream",
          "text": [
            "Epoch 5/500: 100%|██████████| 5/5 [00:00<00:00,  6.58it/s]\n"
          ]
        },
        {
          "name": "stdout",
          "output_type": "stream",
          "text": [
            "Epoch 5 Loss: 0.007155\n",
            "--> New best model saved at epoch 5 with loss 0.007155\n"
          ]
        },
        {
          "name": "stderr",
          "output_type": "stream",
          "text": [
            "Epoch 6/500: 100%|██████████| 5/5 [00:00<00:00,  6.54it/s]\n"
          ]
        },
        {
          "name": "stdout",
          "output_type": "stream",
          "text": [
            "Epoch 6 Loss: 0.006146\n",
            "--> New best model saved at epoch 6 with loss 0.006146\n"
          ]
        },
        {
          "name": "stderr",
          "output_type": "stream",
          "text": [
            "Epoch 7/500: 100%|██████████| 5/5 [00:00<00:00,  6.62it/s]\n"
          ]
        },
        {
          "name": "stdout",
          "output_type": "stream",
          "text": [
            "Epoch 7 Loss: 0.005262\n",
            "--> New best model saved at epoch 7 with loss 0.005262\n"
          ]
        },
        {
          "name": "stderr",
          "output_type": "stream",
          "text": [
            "Epoch 8/500: 100%|██████████| 5/5 [00:00<00:00,  6.66it/s]\n"
          ]
        },
        {
          "name": "stdout",
          "output_type": "stream",
          "text": [
            "Epoch 8 Loss: 0.004700\n",
            "--> New best model saved at epoch 8 with loss 0.004700\n"
          ]
        },
        {
          "name": "stderr",
          "output_type": "stream",
          "text": [
            "Epoch 9/500: 100%|██████████| 5/5 [00:00<00:00,  8.02it/s]\n"
          ]
        },
        {
          "name": "stdout",
          "output_type": "stream",
          "text": [
            "Epoch 9 Loss: 0.004270\n",
            "--> New best model saved at epoch 9 with loss 0.004270\n"
          ]
        },
        {
          "name": "stderr",
          "output_type": "stream",
          "text": [
            "Epoch 10/500: 100%|██████████| 5/5 [00:00<00:00,  8.51it/s]\n"
          ]
        },
        {
          "name": "stdout",
          "output_type": "stream",
          "text": [
            "Epoch 10 Loss: 0.003867\n",
            "--> New best model saved at epoch 10 with loss 0.003867\n"
          ]
        },
        {
          "name": "stderr",
          "output_type": "stream",
          "text": [
            "Epoch 11/500: 100%|██████████| 5/5 [00:00<00:00,  8.57it/s]\n"
          ]
        },
        {
          "name": "stdout",
          "output_type": "stream",
          "text": [
            "Epoch 11 Loss: 0.003565\n",
            "--> New best model saved at epoch 11 with loss 0.003565\n"
          ]
        },
        {
          "name": "stderr",
          "output_type": "stream",
          "text": [
            "Epoch 12/500: 100%|██████████| 5/5 [00:00<00:00,  8.57it/s]\n"
          ]
        },
        {
          "name": "stdout",
          "output_type": "stream",
          "text": [
            "Epoch 12 Loss: 0.003395\n",
            "--> New best model saved at epoch 12 with loss 0.003395\n"
          ]
        },
        {
          "name": "stderr",
          "output_type": "stream",
          "text": [
            "Epoch 13/500: 100%|██████████| 5/5 [00:00<00:00,  8.11it/s]\n"
          ]
        },
        {
          "name": "stdout",
          "output_type": "stream",
          "text": [
            "Epoch 13 Loss: 0.003243\n",
            "--> New best model saved at epoch 13 with loss 0.003243\n"
          ]
        },
        {
          "name": "stderr",
          "output_type": "stream",
          "text": [
            "Epoch 14/500: 100%|██████████| 5/5 [00:00<00:00,  7.72it/s]\n"
          ]
        },
        {
          "name": "stdout",
          "output_type": "stream",
          "text": [
            "Epoch 14 Loss: 0.003097\n",
            "--> New best model saved at epoch 14 with loss 0.003097\n"
          ]
        },
        {
          "name": "stderr",
          "output_type": "stream",
          "text": [
            "Epoch 15/500: 100%|██████████| 5/5 [00:00<00:00,  7.63it/s]\n"
          ]
        },
        {
          "name": "stdout",
          "output_type": "stream",
          "text": [
            "Epoch 15 Loss: 0.002979\n",
            "--> New best model saved at epoch 15 with loss 0.002979\n"
          ]
        },
        {
          "name": "stderr",
          "output_type": "stream",
          "text": [
            "Epoch 16/500: 100%|██████████| 5/5 [00:00<00:00,  7.57it/s]\n"
          ]
        },
        {
          "name": "stdout",
          "output_type": "stream",
          "text": [
            "Epoch 16 Loss: 0.002958\n",
            "No improvement for 1/20 epochs.\n"
          ]
        },
        {
          "name": "stderr",
          "output_type": "stream",
          "text": [
            "Epoch 17/500: 100%|██████████| 5/5 [00:00<00:00,  7.68it/s]\n"
          ]
        },
        {
          "name": "stdout",
          "output_type": "stream",
          "text": [
            "Epoch 17 Loss: 0.002792\n",
            "--> New best model saved at epoch 17 with loss 0.002792\n"
          ]
        },
        {
          "name": "stderr",
          "output_type": "stream",
          "text": [
            "Epoch 18/500: 100%|██████████| 5/5 [00:00<00:00,  6.27it/s]\n"
          ]
        },
        {
          "name": "stdout",
          "output_type": "stream",
          "text": [
            "Epoch 18 Loss: 0.002698\n",
            "No improvement for 1/20 epochs.\n"
          ]
        },
        {
          "name": "stderr",
          "output_type": "stream",
          "text": [
            "Epoch 19/500: 100%|██████████| 5/5 [00:00<00:00,  6.37it/s]\n"
          ]
        },
        {
          "name": "stdout",
          "output_type": "stream",
          "text": [
            "Epoch 19 Loss: 0.002571\n",
            "--> New best model saved at epoch 19 with loss 0.002571\n"
          ]
        },
        {
          "name": "stderr",
          "output_type": "stream",
          "text": [
            "Epoch 20/500: 100%|██████████| 5/5 [00:00<00:00,  6.50it/s]\n"
          ]
        },
        {
          "name": "stdout",
          "output_type": "stream",
          "text": [
            "Epoch 20 Loss: 0.002478\n",
            "No improvement for 1/20 epochs.\n"
          ]
        },
        {
          "name": "stderr",
          "output_type": "stream",
          "text": [
            "Epoch 21/500: 100%|██████████| 5/5 [00:00<00:00,  6.57it/s]\n"
          ]
        },
        {
          "name": "stdout",
          "output_type": "stream",
          "text": [
            "Epoch 21 Loss: 0.002376\n",
            "--> New best model saved at epoch 21 with loss 0.002376\n"
          ]
        },
        {
          "name": "stderr",
          "output_type": "stream",
          "text": [
            "Epoch 22/500: 100%|██████████| 5/5 [00:00<00:00,  6.26it/s]\n"
          ]
        },
        {
          "name": "stdout",
          "output_type": "stream",
          "text": [
            "Epoch 22 Loss: 0.002284\n",
            "No improvement for 1/20 epochs.\n"
          ]
        },
        {
          "name": "stderr",
          "output_type": "stream",
          "text": [
            "Epoch 23/500: 100%|██████████| 5/5 [00:00<00:00,  6.37it/s]\n"
          ]
        },
        {
          "name": "stdout",
          "output_type": "stream",
          "text": [
            "Epoch 23 Loss: 0.002216\n",
            "--> New best model saved at epoch 23 with loss 0.002216\n"
          ]
        },
        {
          "name": "stderr",
          "output_type": "stream",
          "text": [
            "Epoch 24/500: 100%|██████████| 5/5 [00:00<00:00,  6.49it/s]\n"
          ]
        },
        {
          "name": "stdout",
          "output_type": "stream",
          "text": [
            "Epoch 24 Loss: 0.002146\n",
            "No improvement for 1/20 epochs.\n"
          ]
        },
        {
          "name": "stderr",
          "output_type": "stream",
          "text": [
            "Epoch 25/500: 100%|██████████| 5/5 [00:00<00:00,  6.52it/s]\n"
          ]
        },
        {
          "name": "stdout",
          "output_type": "stream",
          "text": [
            "Epoch 25 Loss: 0.002079\n",
            "--> New best model saved at epoch 25 with loss 0.002079\n"
          ]
        },
        {
          "name": "stderr",
          "output_type": "stream",
          "text": [
            "Epoch 26/500: 100%|██████████| 5/5 [00:00<00:00,  6.48it/s]\n"
          ]
        },
        {
          "name": "stdout",
          "output_type": "stream",
          "text": [
            "Epoch 26 Loss: 0.002012\n",
            "No improvement for 1/20 epochs.\n"
          ]
        },
        {
          "name": "stderr",
          "output_type": "stream",
          "text": [
            "Epoch 27/500: 100%|██████████| 5/5 [00:00<00:00,  6.56it/s]\n"
          ]
        },
        {
          "name": "stdout",
          "output_type": "stream",
          "text": [
            "Epoch 27 Loss: 0.001957\n",
            "--> New best model saved at epoch 27 with loss 0.001957\n"
          ]
        },
        {
          "name": "stderr",
          "output_type": "stream",
          "text": [
            "Epoch 28/500: 100%|██████████| 5/5 [00:00<00:00,  6.15it/s]\n"
          ]
        },
        {
          "name": "stdout",
          "output_type": "stream",
          "text": [
            "Epoch 28 Loss: 0.001915\n",
            "No improvement for 1/20 epochs.\n"
          ]
        },
        {
          "name": "stderr",
          "output_type": "stream",
          "text": [
            "Epoch 29/500: 100%|██████████| 5/5 [00:00<00:00,  6.37it/s]\n"
          ]
        },
        {
          "name": "stdout",
          "output_type": "stream",
          "text": [
            "Epoch 29 Loss: 0.001846\n",
            "--> New best model saved at epoch 29 with loss 0.001846\n"
          ]
        },
        {
          "name": "stderr",
          "output_type": "stream",
          "text": [
            "Epoch 30/500: 100%|██████████| 5/5 [00:00<00:00,  6.42it/s]\n"
          ]
        },
        {
          "name": "stdout",
          "output_type": "stream",
          "text": [
            "Epoch 30 Loss: 0.001800\n",
            "No improvement for 1/20 epochs.\n"
          ]
        },
        {
          "name": "stderr",
          "output_type": "stream",
          "text": [
            "Epoch 31/500: 100%|██████████| 5/5 [00:00<00:00,  6.39it/s]\n"
          ]
        },
        {
          "name": "stdout",
          "output_type": "stream",
          "text": [
            "Epoch 31 Loss: 0.001748\n",
            "No improvement for 2/20 epochs.\n"
          ]
        },
        {
          "name": "stderr",
          "output_type": "stream",
          "text": [
            "Epoch 32/500: 100%|██████████| 5/5 [00:00<00:00,  6.56it/s]\n"
          ]
        },
        {
          "name": "stdout",
          "output_type": "stream",
          "text": [
            "Epoch 32 Loss: 0.001706\n",
            "--> New best model saved at epoch 32 with loss 0.001706\n"
          ]
        },
        {
          "name": "stderr",
          "output_type": "stream",
          "text": [
            "Epoch 33/500: 100%|██████████| 5/5 [00:00<00:00,  6.37it/s]\n"
          ]
        },
        {
          "name": "stdout",
          "output_type": "stream",
          "text": [
            "Epoch 33 Loss: 0.001674\n",
            "No improvement for 1/20 epochs.\n"
          ]
        },
        {
          "name": "stderr",
          "output_type": "stream",
          "text": [
            "Epoch 34/500: 100%|██████████| 5/5 [00:00<00:00,  5.08it/s]\n"
          ]
        },
        {
          "name": "stdout",
          "output_type": "stream",
          "text": [
            "Epoch 34 Loss: 0.001623\n",
            "No improvement for 2/20 epochs.\n"
          ]
        },
        {
          "name": "stderr",
          "output_type": "stream",
          "text": [
            "Epoch 35/500: 100%|██████████| 5/5 [00:00<00:00,  6.13it/s]\n"
          ]
        },
        {
          "name": "stdout",
          "output_type": "stream",
          "text": [
            "Epoch 35 Loss: 0.001600\n",
            "--> New best model saved at epoch 35 with loss 0.001600\n"
          ]
        },
        {
          "name": "stderr",
          "output_type": "stream",
          "text": [
            "Epoch 36/500: 100%|██████████| 5/5 [00:00<00:00,  6.47it/s]\n"
          ]
        },
        {
          "name": "stdout",
          "output_type": "stream",
          "text": [
            "Epoch 36 Loss: 0.001559\n",
            "No improvement for 1/20 epochs.\n"
          ]
        },
        {
          "name": "stderr",
          "output_type": "stream",
          "text": [
            "Epoch 37/500: 100%|██████████| 5/5 [00:00<00:00,  6.39it/s]\n"
          ]
        },
        {
          "name": "stdout",
          "output_type": "stream",
          "text": [
            "Epoch 37 Loss: 0.001541\n",
            "No improvement for 2/20 epochs.\n"
          ]
        },
        {
          "name": "stderr",
          "output_type": "stream",
          "text": [
            "Epoch 38/500: 100%|██████████| 5/5 [00:00<00:00,  6.61it/s]\n"
          ]
        },
        {
          "name": "stdout",
          "output_type": "stream",
          "text": [
            "Epoch 38 Loss: 0.001507\n",
            "No improvement for 3/20 epochs.\n"
          ]
        },
        {
          "name": "stderr",
          "output_type": "stream",
          "text": [
            "Epoch 39/500: 100%|██████████| 5/5 [00:00<00:00,  6.43it/s]\n"
          ]
        },
        {
          "name": "stdout",
          "output_type": "stream",
          "text": [
            "Epoch 39 Loss: 0.001480\n",
            "--> New best model saved at epoch 39 with loss 0.001480\n"
          ]
        },
        {
          "name": "stderr",
          "output_type": "stream",
          "text": [
            "Epoch 40/500: 100%|██████████| 5/5 [00:00<00:00,  6.66it/s]\n"
          ]
        },
        {
          "name": "stdout",
          "output_type": "stream",
          "text": [
            "Epoch 40 Loss: 0.001448\n",
            "No improvement for 1/20 epochs.\n"
          ]
        },
        {
          "name": "stderr",
          "output_type": "stream",
          "text": [
            "Epoch 41/500: 100%|██████████| 5/5 [00:00<00:00,  6.33it/s]\n"
          ]
        },
        {
          "name": "stdout",
          "output_type": "stream",
          "text": [
            "Epoch 41 Loss: 0.001438\n",
            "No improvement for 2/20 epochs.\n"
          ]
        },
        {
          "name": "stderr",
          "output_type": "stream",
          "text": [
            "Epoch 42/500: 100%|██████████| 5/5 [00:00<00:00,  6.52it/s]\n"
          ]
        },
        {
          "name": "stdout",
          "output_type": "stream",
          "text": [
            "Epoch 42 Loss: 0.001410\n",
            "No improvement for 3/20 epochs.\n"
          ]
        },
        {
          "name": "stderr",
          "output_type": "stream",
          "text": [
            "Epoch 43/500: 100%|██████████| 5/5 [00:00<00:00,  6.44it/s]\n"
          ]
        },
        {
          "name": "stdout",
          "output_type": "stream",
          "text": [
            "Epoch 43 Loss: 0.001383\n",
            "No improvement for 4/20 epochs.\n"
          ]
        },
        {
          "name": "stderr",
          "output_type": "stream",
          "text": [
            "Epoch 44/500: 100%|██████████| 5/5 [00:00<00:00,  6.50it/s]\n"
          ]
        },
        {
          "name": "stdout",
          "output_type": "stream",
          "text": [
            "Epoch 44 Loss: 0.001370\n",
            "--> New best model saved at epoch 44 with loss 0.001370\n"
          ]
        },
        {
          "name": "stderr",
          "output_type": "stream",
          "text": [
            "Epoch 45/500: 100%|██████████| 5/5 [00:00<00:00,  6.50it/s]\n"
          ]
        },
        {
          "name": "stdout",
          "output_type": "stream",
          "text": [
            "Epoch 45 Loss: 0.001362\n",
            "No improvement for 1/20 epochs.\n"
          ]
        },
        {
          "name": "stderr",
          "output_type": "stream",
          "text": [
            "Epoch 46/500: 100%|██████████| 5/5 [00:00<00:00,  6.39it/s]\n"
          ]
        },
        {
          "name": "stdout",
          "output_type": "stream",
          "text": [
            "Epoch 46 Loss: 0.001339\n",
            "No improvement for 2/20 epochs.\n"
          ]
        },
        {
          "name": "stderr",
          "output_type": "stream",
          "text": [
            "Epoch 47/500: 100%|██████████| 5/5 [00:00<00:00,  6.37it/s]\n"
          ]
        },
        {
          "name": "stdout",
          "output_type": "stream",
          "text": [
            "Epoch 47 Loss: 0.001318\n",
            "No improvement for 3/20 epochs.\n"
          ]
        },
        {
          "name": "stderr",
          "output_type": "stream",
          "text": [
            "Epoch 48/500: 100%|██████████| 5/5 [00:00<00:00,  6.51it/s]\n"
          ]
        },
        {
          "name": "stdout",
          "output_type": "stream",
          "text": [
            "Epoch 48 Loss: 0.001300\n",
            "No improvement for 4/20 epochs.\n"
          ]
        },
        {
          "name": "stderr",
          "output_type": "stream",
          "text": [
            "Epoch 49/500: 100%|██████████| 5/5 [00:00<00:00,  6.14it/s]\n"
          ]
        },
        {
          "name": "stdout",
          "output_type": "stream",
          "text": [
            "Epoch 49 Loss: 0.001289\n",
            "No improvement for 5/20 epochs.\n"
          ]
        },
        {
          "name": "stderr",
          "output_type": "stream",
          "text": [
            "Epoch 50/500: 100%|██████████| 5/5 [00:00<00:00,  6.24it/s]\n"
          ]
        },
        {
          "name": "stdout",
          "output_type": "stream",
          "text": [
            "Epoch 50 Loss: 0.001265\n",
            "--> New best model saved at epoch 50 with loss 0.001265\n"
          ]
        },
        {
          "name": "stderr",
          "output_type": "stream",
          "text": [
            "Epoch 51/500: 100%|██████████| 5/5 [00:00<00:00,  6.37it/s]\n"
          ]
        },
        {
          "name": "stdout",
          "output_type": "stream",
          "text": [
            "Epoch 51 Loss: 0.001249\n",
            "No improvement for 1/20 epochs.\n"
          ]
        },
        {
          "name": "stderr",
          "output_type": "stream",
          "text": [
            "Epoch 52/500: 100%|██████████| 5/5 [00:00<00:00,  6.56it/s]\n"
          ]
        },
        {
          "name": "stdout",
          "output_type": "stream",
          "text": [
            "Epoch 52 Loss: 0.001238\n",
            "No improvement for 2/20 epochs.\n"
          ]
        },
        {
          "name": "stderr",
          "output_type": "stream",
          "text": [
            "Epoch 53/500: 100%|██████████| 5/5 [00:00<00:00,  6.51it/s]\n"
          ]
        },
        {
          "name": "stdout",
          "output_type": "stream",
          "text": [
            "Epoch 53 Loss: 0.001228\n",
            "No improvement for 3/20 epochs.\n"
          ]
        },
        {
          "name": "stderr",
          "output_type": "stream",
          "text": [
            "Epoch 54/500: 100%|██████████| 5/5 [00:00<00:00,  6.36it/s]\n"
          ]
        },
        {
          "name": "stdout",
          "output_type": "stream",
          "text": [
            "Epoch 54 Loss: 0.001214\n",
            "No improvement for 4/20 epochs.\n"
          ]
        },
        {
          "name": "stderr",
          "output_type": "stream",
          "text": [
            "Epoch 55/500: 100%|██████████| 5/5 [00:00<00:00,  6.52it/s]\n"
          ]
        },
        {
          "name": "stdout",
          "output_type": "stream",
          "text": [
            "Epoch 55 Loss: 0.001200\n",
            "No improvement for 5/20 epochs.\n"
          ]
        },
        {
          "name": "stderr",
          "output_type": "stream",
          "text": [
            "Epoch 56/500: 100%|██████████| 5/5 [00:00<00:00,  6.44it/s]\n"
          ]
        },
        {
          "name": "stdout",
          "output_type": "stream",
          "text": [
            "Epoch 56 Loss: 0.001187\n",
            "No improvement for 6/20 epochs.\n"
          ]
        },
        {
          "name": "stderr",
          "output_type": "stream",
          "text": [
            "Epoch 57/500: 100%|██████████| 5/5 [00:00<00:00,  6.51it/s]\n"
          ]
        },
        {
          "name": "stdout",
          "output_type": "stream",
          "text": [
            "Epoch 57 Loss: 0.001202\n",
            "No improvement for 7/20 epochs.\n"
          ]
        },
        {
          "name": "stderr",
          "output_type": "stream",
          "text": [
            "Epoch 58/500: 100%|██████████| 5/5 [00:00<00:00,  6.38it/s]\n"
          ]
        },
        {
          "name": "stdout",
          "output_type": "stream",
          "text": [
            "Epoch 58 Loss: 0.001172\n",
            "No improvement for 8/20 epochs.\n"
          ]
        },
        {
          "name": "stderr",
          "output_type": "stream",
          "text": [
            "Epoch 59/500: 100%|██████████| 5/5 [00:00<00:00,  6.52it/s]\n"
          ]
        },
        {
          "name": "stdout",
          "output_type": "stream",
          "text": [
            "Epoch 59 Loss: 0.001175\n",
            "No improvement for 9/20 epochs.\n"
          ]
        },
        {
          "name": "stderr",
          "output_type": "stream",
          "text": [
            "Epoch 60/500: 100%|██████████| 5/5 [00:00<00:00,  6.38it/s]\n"
          ]
        },
        {
          "name": "stdout",
          "output_type": "stream",
          "text": [
            "Epoch 60 Loss: 0.001160\n",
            "--> New best model saved at epoch 60 with loss 0.001160\n"
          ]
        },
        {
          "name": "stderr",
          "output_type": "stream",
          "text": [
            "Epoch 61/500: 100%|██████████| 5/5 [00:00<00:00,  6.46it/s]\n"
          ]
        },
        {
          "name": "stdout",
          "output_type": "stream",
          "text": [
            "Epoch 61 Loss: 0.001144\n",
            "No improvement for 1/20 epochs.\n"
          ]
        },
        {
          "name": "stderr",
          "output_type": "stream",
          "text": [
            "Epoch 62/500: 100%|██████████| 5/5 [00:00<00:00,  6.52it/s]\n"
          ]
        },
        {
          "name": "stdout",
          "output_type": "stream",
          "text": [
            "Epoch 62 Loss: 0.001128\n",
            "No improvement for 2/20 epochs.\n"
          ]
        },
        {
          "name": "stderr",
          "output_type": "stream",
          "text": [
            "Epoch 63/500: 100%|██████████| 5/5 [00:00<00:00,  6.02it/s]\n"
          ]
        },
        {
          "name": "stdout",
          "output_type": "stream",
          "text": [
            "Epoch 63 Loss: 0.001123\n",
            "No improvement for 3/20 epochs.\n"
          ]
        },
        {
          "name": "stderr",
          "output_type": "stream",
          "text": [
            "Epoch 64/500: 100%|██████████| 5/5 [00:00<00:00,  6.55it/s]\n"
          ]
        },
        {
          "name": "stdout",
          "output_type": "stream",
          "text": [
            "Epoch 64 Loss: 0.001107\n",
            "No improvement for 4/20 epochs.\n"
          ]
        },
        {
          "name": "stderr",
          "output_type": "stream",
          "text": [
            "Epoch 65/500: 100%|██████████| 5/5 [00:00<00:00,  6.38it/s]\n"
          ]
        },
        {
          "name": "stdout",
          "output_type": "stream",
          "text": [
            "Epoch 65 Loss: 0.001096\n",
            "No improvement for 5/20 epochs.\n"
          ]
        },
        {
          "name": "stderr",
          "output_type": "stream",
          "text": [
            "Epoch 66/500: 100%|██████████| 5/5 [00:00<00:00,  6.36it/s]\n"
          ]
        },
        {
          "name": "stdout",
          "output_type": "stream",
          "text": [
            "Epoch 66 Loss: 0.001089\n",
            "No improvement for 6/20 epochs.\n"
          ]
        },
        {
          "name": "stderr",
          "output_type": "stream",
          "text": [
            "Epoch 67/500: 100%|██████████| 5/5 [00:00<00:00,  6.53it/s]\n"
          ]
        },
        {
          "name": "stdout",
          "output_type": "stream",
          "text": [
            "Epoch 67 Loss: 0.001085\n",
            "No improvement for 7/20 epochs.\n"
          ]
        },
        {
          "name": "stderr",
          "output_type": "stream",
          "text": [
            "Epoch 68/500: 100%|██████████| 5/5 [00:00<00:00,  6.53it/s]\n"
          ]
        },
        {
          "name": "stdout",
          "output_type": "stream",
          "text": [
            "Epoch 68 Loss: 0.001074\n",
            "No improvement for 8/20 epochs.\n"
          ]
        },
        {
          "name": "stderr",
          "output_type": "stream",
          "text": [
            "Epoch 69/500: 100%|██████████| 5/5 [00:00<00:00,  6.53it/s]\n"
          ]
        },
        {
          "name": "stdout",
          "output_type": "stream",
          "text": [
            "Epoch 69 Loss: 0.001070\n",
            "No improvement for 9/20 epochs.\n"
          ]
        },
        {
          "name": "stderr",
          "output_type": "stream",
          "text": [
            "Epoch 70/500: 100%|██████████| 5/5 [00:00<00:00,  6.52it/s]\n"
          ]
        },
        {
          "name": "stdout",
          "output_type": "stream",
          "text": [
            "Epoch 70 Loss: 0.001063\n",
            "No improvement for 10/20 epochs.\n"
          ]
        },
        {
          "name": "stderr",
          "output_type": "stream",
          "text": [
            "Epoch 71/500: 100%|██████████| 5/5 [00:00<00:00,  6.70it/s]\n"
          ]
        },
        {
          "name": "stdout",
          "output_type": "stream",
          "text": [
            "Epoch 71 Loss: 0.001054\n",
            "--> New best model saved at epoch 71 with loss 0.001054\n"
          ]
        },
        {
          "name": "stderr",
          "output_type": "stream",
          "text": [
            "Epoch 72/500: 100%|██████████| 5/5 [00:00<00:00,  6.53it/s]\n"
          ]
        },
        {
          "name": "stdout",
          "output_type": "stream",
          "text": [
            "Epoch 72 Loss: 0.001058\n",
            "No improvement for 1/20 epochs.\n"
          ]
        },
        {
          "name": "stderr",
          "output_type": "stream",
          "text": [
            "Epoch 73/500: 100%|██████████| 5/5 [00:00<00:00,  6.37it/s]\n"
          ]
        },
        {
          "name": "stdout",
          "output_type": "stream",
          "text": [
            "Epoch 73 Loss: 0.001038\n",
            "No improvement for 2/20 epochs.\n"
          ]
        },
        {
          "name": "stderr",
          "output_type": "stream",
          "text": [
            "Epoch 74/500: 100%|██████████| 5/5 [00:00<00:00,  6.53it/s]\n"
          ]
        },
        {
          "name": "stdout",
          "output_type": "stream",
          "text": [
            "Epoch 74 Loss: 0.001027\n",
            "No improvement for 3/20 epochs.\n"
          ]
        },
        {
          "name": "stderr",
          "output_type": "stream",
          "text": [
            "Epoch 75/500: 100%|██████████| 5/5 [00:00<00:00,  6.53it/s]\n"
          ]
        },
        {
          "name": "stdout",
          "output_type": "stream",
          "text": [
            "Epoch 75 Loss: 0.001033\n",
            "No improvement for 4/20 epochs.\n"
          ]
        },
        {
          "name": "stderr",
          "output_type": "stream",
          "text": [
            "Epoch 76/500: 100%|██████████| 5/5 [00:00<00:00,  6.57it/s]\n"
          ]
        },
        {
          "name": "stdout",
          "output_type": "stream",
          "text": [
            "Epoch 76 Loss: 0.001025\n",
            "No improvement for 5/20 epochs.\n"
          ]
        },
        {
          "name": "stderr",
          "output_type": "stream",
          "text": [
            "Epoch 77/500: 100%|██████████| 5/5 [00:00<00:00,  6.34it/s]\n"
          ]
        },
        {
          "name": "stdout",
          "output_type": "stream",
          "text": [
            "Epoch 77 Loss: 0.001015\n",
            "No improvement for 6/20 epochs.\n"
          ]
        },
        {
          "name": "stderr",
          "output_type": "stream",
          "text": [
            "Epoch 78/500: 100%|██████████| 5/5 [00:00<00:00,  6.43it/s]\n"
          ]
        },
        {
          "name": "stdout",
          "output_type": "stream",
          "text": [
            "Epoch 78 Loss: 0.001006\n",
            "No improvement for 7/20 epochs.\n"
          ]
        },
        {
          "name": "stderr",
          "output_type": "stream",
          "text": [
            "Epoch 79/500: 100%|██████████| 5/5 [00:00<00:00,  6.52it/s]\n"
          ]
        },
        {
          "name": "stdout",
          "output_type": "stream",
          "text": [
            "Epoch 79 Loss: 0.000993\n",
            "No improvement for 8/20 epochs.\n"
          ]
        },
        {
          "name": "stderr",
          "output_type": "stream",
          "text": [
            "Epoch 80/500: 100%|██████████| 5/5 [00:00<00:00,  6.35it/s]\n"
          ]
        },
        {
          "name": "stdout",
          "output_type": "stream",
          "text": [
            "Epoch 80 Loss: 0.000989\n",
            "No improvement for 9/20 epochs.\n"
          ]
        },
        {
          "name": "stderr",
          "output_type": "stream",
          "text": [
            "Epoch 81/500: 100%|██████████| 5/5 [00:00<00:00,  6.52it/s]\n"
          ]
        },
        {
          "name": "stdout",
          "output_type": "stream",
          "text": [
            "Epoch 81 Loss: 0.000983\n",
            "No improvement for 10/20 epochs.\n"
          ]
        },
        {
          "name": "stderr",
          "output_type": "stream",
          "text": [
            "Epoch 82/500: 100%|██████████| 5/5 [00:00<00:00,  6.16it/s]\n"
          ]
        },
        {
          "name": "stdout",
          "output_type": "stream",
          "text": [
            "Epoch 82 Loss: 0.000979\n",
            "No improvement for 11/20 epochs.\n"
          ]
        },
        {
          "name": "stderr",
          "output_type": "stream",
          "text": [
            "Epoch 83/500: 100%|██████████| 5/5 [00:00<00:00,  6.34it/s]\n"
          ]
        },
        {
          "name": "stdout",
          "output_type": "stream",
          "text": [
            "Epoch 83 Loss: 0.000969\n",
            "No improvement for 12/20 epochs.\n"
          ]
        },
        {
          "name": "stderr",
          "output_type": "stream",
          "text": [
            "Epoch 84/500: 100%|██████████| 5/5 [00:00<00:00,  6.26it/s]\n"
          ]
        },
        {
          "name": "stdout",
          "output_type": "stream",
          "text": [
            "Epoch 84 Loss: 0.000968\n",
            "No improvement for 13/20 epochs.\n"
          ]
        },
        {
          "name": "stderr",
          "output_type": "stream",
          "text": [
            "Epoch 85/500: 100%|██████████| 5/5 [00:00<00:00,  6.37it/s]\n"
          ]
        },
        {
          "name": "stdout",
          "output_type": "stream",
          "text": [
            "Epoch 85 Loss: 0.000962\n",
            "No improvement for 14/20 epochs.\n"
          ]
        },
        {
          "name": "stderr",
          "output_type": "stream",
          "text": [
            "Epoch 86/500: 100%|██████████| 5/5 [00:00<00:00,  6.38it/s]\n"
          ]
        },
        {
          "name": "stdout",
          "output_type": "stream",
          "text": [
            "Epoch 86 Loss: 0.000952\n",
            "--> New best model saved at epoch 86 with loss 0.000952\n"
          ]
        },
        {
          "name": "stderr",
          "output_type": "stream",
          "text": [
            "Epoch 87/500: 100%|██████████| 5/5 [00:00<00:00,  6.35it/s]\n"
          ]
        },
        {
          "name": "stdout",
          "output_type": "stream",
          "text": [
            "Epoch 87 Loss: 0.000946\n",
            "No improvement for 1/20 epochs.\n"
          ]
        },
        {
          "name": "stderr",
          "output_type": "stream",
          "text": [
            "Epoch 88/500: 100%|██████████| 5/5 [00:00<00:00,  6.27it/s]\n"
          ]
        },
        {
          "name": "stdout",
          "output_type": "stream",
          "text": [
            "Epoch 88 Loss: 0.000938\n",
            "No improvement for 2/20 epochs.\n"
          ]
        },
        {
          "name": "stderr",
          "output_type": "stream",
          "text": [
            "Epoch 89/500: 100%|██████████| 5/5 [00:00<00:00,  6.25it/s]\n"
          ]
        },
        {
          "name": "stdout",
          "output_type": "stream",
          "text": [
            "Epoch 89 Loss: 0.000940\n",
            "No improvement for 3/20 epochs.\n"
          ]
        },
        {
          "name": "stderr",
          "output_type": "stream",
          "text": [
            "Epoch 90/500: 100%|██████████| 5/5 [00:00<00:00,  6.56it/s]\n"
          ]
        },
        {
          "name": "stdout",
          "output_type": "stream",
          "text": [
            "Epoch 90 Loss: 0.000936\n",
            "No improvement for 4/20 epochs.\n"
          ]
        },
        {
          "name": "stderr",
          "output_type": "stream",
          "text": [
            "Epoch 91/500: 100%|██████████| 5/5 [00:00<00:00,  6.47it/s]\n"
          ]
        },
        {
          "name": "stdout",
          "output_type": "stream",
          "text": [
            "Epoch 91 Loss: 0.000930\n",
            "No improvement for 5/20 epochs.\n"
          ]
        },
        {
          "name": "stderr",
          "output_type": "stream",
          "text": [
            "Epoch 92/500: 100%|██████████| 5/5 [00:00<00:00,  6.58it/s]\n"
          ]
        },
        {
          "name": "stdout",
          "output_type": "stream",
          "text": [
            "Epoch 92 Loss: 0.000925\n",
            "No improvement for 6/20 epochs.\n"
          ]
        },
        {
          "name": "stderr",
          "output_type": "stream",
          "text": [
            "Epoch 93/500: 100%|██████████| 5/5 [00:00<00:00,  7.85it/s]\n"
          ]
        },
        {
          "name": "stdout",
          "output_type": "stream",
          "text": [
            "Epoch 93 Loss: 0.000927\n",
            "No improvement for 7/20 epochs.\n"
          ]
        },
        {
          "name": "stderr",
          "output_type": "stream",
          "text": [
            "Epoch 94/500: 100%|██████████| 5/5 [00:00<00:00,  8.52it/s]\n"
          ]
        },
        {
          "name": "stdout",
          "output_type": "stream",
          "text": [
            "Epoch 94 Loss: 0.000918\n",
            "No improvement for 8/20 epochs.\n"
          ]
        },
        {
          "name": "stderr",
          "output_type": "stream",
          "text": [
            "Epoch 95/500: 100%|██████████| 5/5 [00:00<00:00,  8.63it/s]\n"
          ]
        },
        {
          "name": "stdout",
          "output_type": "stream",
          "text": [
            "Epoch 95 Loss: 0.000911\n",
            "No improvement for 9/20 epochs.\n"
          ]
        },
        {
          "name": "stderr",
          "output_type": "stream",
          "text": [
            "Epoch 96/500: 100%|██████████| 5/5 [00:00<00:00,  8.09it/s]\n"
          ]
        },
        {
          "name": "stdout",
          "output_type": "stream",
          "text": [
            "Epoch 96 Loss: 0.000914\n",
            "No improvement for 10/20 epochs.\n"
          ]
        },
        {
          "name": "stderr",
          "output_type": "stream",
          "text": [
            "Epoch 97/500: 100%|██████████| 5/5 [00:00<00:00,  8.35it/s]\n"
          ]
        },
        {
          "name": "stdout",
          "output_type": "stream",
          "text": [
            "Epoch 97 Loss: 0.000903\n",
            "No improvement for 11/20 epochs.\n"
          ]
        },
        {
          "name": "stderr",
          "output_type": "stream",
          "text": [
            "Epoch 98/500: 100%|██████████| 5/5 [00:00<00:00,  8.56it/s]\n"
          ]
        },
        {
          "name": "stdout",
          "output_type": "stream",
          "text": [
            "Epoch 98 Loss: 0.000911\n",
            "No improvement for 12/20 epochs.\n"
          ]
        },
        {
          "name": "stderr",
          "output_type": "stream",
          "text": [
            "Epoch 99/500: 100%|██████████| 5/5 [00:00<00:00,  6.35it/s]\n"
          ]
        },
        {
          "name": "stdout",
          "output_type": "stream",
          "text": [
            "Epoch 99 Loss: 0.000906\n",
            "No improvement for 13/20 epochs.\n"
          ]
        },
        {
          "name": "stderr",
          "output_type": "stream",
          "text": [
            "Epoch 100/500: 100%|██████████| 5/5 [00:00<00:00,  7.59it/s]\n"
          ]
        },
        {
          "name": "stdout",
          "output_type": "stream",
          "text": [
            "Epoch 100 Loss: 0.000898\n",
            "No improvement for 14/20 epochs.\n"
          ]
        },
        {
          "name": "stderr",
          "output_type": "stream",
          "text": [
            "Epoch 101/500: 100%|██████████| 5/5 [00:00<00:00,  7.65it/s]\n"
          ]
        },
        {
          "name": "stdout",
          "output_type": "stream",
          "text": [
            "Epoch 101 Loss: 0.000892\n",
            "No improvement for 15/20 epochs.\n"
          ]
        },
        {
          "name": "stderr",
          "output_type": "stream",
          "text": [
            "Epoch 102/500: 100%|██████████| 5/5 [00:00<00:00,  7.49it/s]\n"
          ]
        },
        {
          "name": "stdout",
          "output_type": "stream",
          "text": [
            "Epoch 102 Loss: 0.000887\n",
            "No improvement for 16/20 epochs.\n"
          ]
        },
        {
          "name": "stderr",
          "output_type": "stream",
          "text": [
            "Epoch 103/500: 100%|██████████| 5/5 [00:00<00:00,  8.36it/s]\n"
          ]
        },
        {
          "name": "stdout",
          "output_type": "stream",
          "text": [
            "Epoch 103 Loss: 0.000881\n",
            "No improvement for 17/20 epochs.\n"
          ]
        },
        {
          "name": "stderr",
          "output_type": "stream",
          "text": [
            "Epoch 104/500: 100%|██████████| 5/5 [00:00<00:00,  8.57it/s]\n"
          ]
        },
        {
          "name": "stdout",
          "output_type": "stream",
          "text": [
            "Epoch 104 Loss: 0.000878\n",
            "No improvement for 18/20 epochs.\n"
          ]
        },
        {
          "name": "stderr",
          "output_type": "stream",
          "text": [
            "Epoch 105/500: 100%|██████████| 5/5 [00:00<00:00,  8.33it/s]\n"
          ]
        },
        {
          "name": "stdout",
          "output_type": "stream",
          "text": [
            "Epoch 105 Loss: 0.000872\n",
            "No improvement for 19/20 epochs.\n"
          ]
        },
        {
          "name": "stderr",
          "output_type": "stream",
          "text": [
            "Epoch 106/500: 100%|██████████| 5/5 [00:00<00:00,  8.61it/s]"
          ]
        },
        {
          "name": "stdout",
          "output_type": "stream",
          "text": [
            "Epoch 106 Loss: 0.000879\n",
            "No improvement for 20/20 epochs.\n",
            "Stopping early at epoch 106 due to no improvement.\n"
          ]
        },
        {
          "name": "stderr",
          "output_type": "stream",
          "text": [
            "\n"
          ]
        }
      ],
      "source": [
        "# Hyperparameters\n",
        "LR = 1e-3\n",
        "EPOCHS = 500\n",
        "PATIENCE = 20  # early stopping patience\n",
        "MIN_DELTA = 1e-4\n",
        "optimizer = torch.optim.Adam(model.parameters(), lr=LR)\n",
        "criterion = nn.MSELoss()\n",
        "# Reduce LR on plateau if loss saturates\n",
        "scheduler = torch.optim.lr_scheduler.ReduceLROnPlateau(\n",
        "    optimizer, mode='min', factor=0.5, patience=20, \n",
        ")\n",
        "\n",
        "# DataLoaders\n",
        "# train_dl, test_dl, train_ds should be defined elsewhere\n",
        "\n",
        "# Training loop with early stopping & checkpointing\n",
        "best_loss = float('inf')\n",
        "no_improve = 0\n",
        "history = []\n",
        "\n",
        "for epoch in range(1, EPOCHS + 1):\n",
        "    model.train()\n",
        "    running_loss = 0.0\n",
        "    for x, _ in tqdm(train_dl, desc=f\"Epoch {epoch}/{EPOCHS}\"):\n",
        "        x = x.to(DEVICE)\n",
        "        optimizer.zero_grad()\n",
        "        outputs = model(x)\n",
        "        loss = criterion(outputs, x)\n",
        "        loss.backward()\n",
        "        optimizer.step()\n",
        "        running_loss += loss.item() * x.size(0)\n",
        "\n",
        "    epoch_loss = running_loss / len(train_ds)\n",
        "    history.append(epoch_loss)\n",
        "    print(f\"Epoch {epoch} Loss: {epoch_loss:.6f}\")\n",
        "\n",
        "    # Scheduler step on loss plateau\n",
        "    scheduler.step(epoch_loss)\n",
        "\n",
        "    # Early stopping check\n",
        "    if best_loss - epoch_loss > MIN_DELTA:\n",
        "        best_loss = epoch_loss\n",
        "        no_improve = 0\n",
        "        # Save best model checkpoint\n",
        "        torch.save({\n",
        "            'epoch': epoch,\n",
        "            'model_state_dict': model.state_dict(),\n",
        "            'optimizer_state_dict': optimizer.state_dict(),\n",
        "            'loss': epoch_loss\n",
        "        }, 'best_model.pt')\n",
        "        print(f\"--> New best model saved at epoch {epoch} with loss {epoch_loss:.6f}\")\n",
        "    else:\n",
        "        no_improve += 1\n",
        "        print(f\"No improvement for {no_improve}/{PATIENCE} epochs.\")\n",
        "        if no_improve >= PATIENCE:\n",
        "            print(f\"Stopping early at epoch {epoch} due to no improvement.\")\n",
        "            break\n"
      ]
    },
    {
      "cell_type": "markdown",
      "id": "aa5852a7",
      "metadata": {},
      "source": [
        "## Plot Training Loss"
      ]
    },
    {
      "cell_type": "code",
      "execution_count": 17,
      "id": "9157db8c",
      "metadata": {},
      "outputs": [
        {
          "data": {
            "image/png": "[encoded data removed]",
            "text/plain": [
              "<Figure size 600x300 with 1 Axes>"
            ]
          },
          "metadata": {},
          "output_type": "display_data"
        }
      ],
      "source": [
        "plt.figure(figsize=(6,3))\n",
        "plt.plot(history,marker='o')\n",
        "plt.xlabel('Epoch')\n",
        "plt.ylabel('MSE Loss')\n",
        "plt.show()"
      ]
    },
    {
      "cell_type": "markdown",
      "id": "2dcaff1a",
      "metadata": {},
      "source": [
        "## Inference & AUC"
      ]
    },
    {
      "cell_type": "code",
      "execution_count": 18,
      "id": "27e8dd99",
      "metadata": {},
      "outputs": [
        {
          "name": "stderr",
          "output_type": "stream",
          "text": [
            "Test: 100%|██████████| 3/3 [00:00<00:00, 10.47it/s]"
          ]
        },
        {
          "name": "stdout",
          "output_type": "stream",
          "text": [
            "Test AUC: 0.9328\n"
          ]
        },
        {
          "name": "stderr",
          "output_type": "stream",
          "text": [
            "\n"
          ]
        }
      ],
      "source": [
        "# Load best model for inference\n",
        "checkpoint = torch.load('best_model.pt', map_location=DEVICE)\n",
        "model = FCUnetAE().to(DEVICE)\n",
        "model.load_state_dict(checkpoint['model_state_dict'])\n",
        "model.eval()\n",
        "\n",
        "# Inference and evaluation\n",
        "scores, labels = [], []\n",
        "with torch.no_grad():\n",
        "    for x, y in tqdm(test_dl, desc='Test'):  # evaluation\n",
        "        x = x.to(DEVICE)\n",
        "        recon = model(x)\n",
        "        err = ((x - recon) ** 2).mean(dim=1).cpu().numpy()\n",
        "        scores.extend(err)\n",
        "        labels.extend(y.numpy())\n",
        "\n",
        "auc = roc_auc_score(labels, scores)\n",
        "print(f\"Test AUC: {auc:.4f}\")\n"
      ]
    },
    {
      "cell_type": "markdown",
      "id": "a420eb90",
      "metadata": {},
      "source": [
        "## Error Distribution"
      ]
    },
    {
      "cell_type": "code",
      "execution_count": 19,
      "id": "d2490b5c",
      "metadata": {},
      "outputs": [
        {
          "data": {
            "image/png": "[encoded data removed]",
            "text/plain": [
              "<Figure size 600x300 with 1 Axes>"
            ]
          },
          "metadata": {},
          "output_type": "display_data"
        }
      ],
      "source": [
        "norm=[s for s,l in zip(scores,labels) if l==0]\n",
        "anom=[s for s,l in zip(scores,labels) if l==1]\n",
        "plt.figure(figsize=(6,3))\n",
        "plt.hist(norm,bins=50,alpha=0.6,label='normal',log=True)\n",
        "plt.hist(anom,bins=50,alpha=0.6,label='anomaly',log=True)\n",
        "plt.xlabel('MSE')\n",
        "plt.legend()\n",
        "plt.show()"
      ]
    },
    {
      "cell_type": "code",
      "execution_count": null,
      "id": "650950c3",
      "metadata": {},
      "outputs": [],
      "source": []
    }
  ],
  "metadata": {
    "kernelspec": {
      "display_name": "Python 3",
      "name": "python3"
    },
    "language_info": {
      "codemirror_mode": {
        "name": "ipython",
        "version": 3
      },
      "file_extension": ".py",
      "mimetype": "text/x-python",
      "name": "python",
      "nbconvert_exporter": "python",
      "pygments_lexer": "ipython3",
      "version": "3.12.10"
    }
  },
  "nbformat": 4,
  "nbformat_minor": 5
}
