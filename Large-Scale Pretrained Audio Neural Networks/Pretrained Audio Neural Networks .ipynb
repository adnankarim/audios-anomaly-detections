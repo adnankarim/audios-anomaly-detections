{
  "cells": [
    {
      "cell_type": "markdown",
      "metadata": {},
      "source": [
        "# Pretrained Audio Neural Networks Autoencoder for DCASE‑Inspired Anomalous Sound Detection\n"
      ]
    },
    {
      "cell_type": "code",
      "execution_count": 26,
      "metadata": {},
      "outputs": [],
      "source": [
        "# Install dependencies if needed\n",
        "# !pip install torch torchvision torchaudio librosa tqdm scikit-learn"
      ]
    },
    {
      "cell_type": "code",
      "execution_count": 27,
      "metadata": {},
      "outputs": [],
      "source": [
        "import os, glob, random, numpy as np\n",
        "import torch\n",
        "import torchaudio\n",
        "import librosa\n",
        "import matplotlib.pyplot as plt\n",
        "from torch import nn\n",
        "from torch.utils.data import Dataset, DataLoader\n",
        "from sklearn.metrics import roc_auc_score\n",
        "from tqdm import tqdm\n"
      ]
    },
    {
      "cell_type": "code",
      "execution_count": null,
      "metadata": {},
      "outputs": [
        {
          "name": "stdout",
          "output_type": "stream",
          "text": [
            "Using device: cuda\n",
            "GPU: NVIDIA GeForce RTX 4090\n"
          ]
        }
      ],
      "source": [
        "# Device setup\n",
        "DEVICE = torch.device('cuda' if torch.cuda.is_available() else 'cpu')\n",
        "print('Using device:', DEVICE)\n",
        "if DEVICE.type=='cuda': print('GPU:', torch.cuda.get_device_name(0))"
      ]
    },
    {
      "cell_type": "code",
      "execution_count": 41,
      "id": "c1792068",
      "metadata": {},
      "outputs": [],
      "source": [
        "# ! pip install panns-inference"
      ]
    },
    {
      "cell_type": "markdown",
      "metadata": {},
      "source": [
        "## Data Prep & PANN Embedding Extraction"
      ]
    },
    {
      "cell_type": "code",
      "execution_count": 30,
      "metadata": {},
      "outputs": [
        {
          "name": "stdout",
          "output_type": "stream",
          "text": [
            "Checkpoint path: C:\\Users\\dell/panns_data/Cnn14_mAP=0.431.pth\n",
            "Using CPU.\n"
          ]
        },
        {
          "name": "stderr",
          "output_type": "stream",
          "text": [
            "                                                       \r"
          ]
        }
      ],
      "source": [
        "TRAIN_WAV = 'DATA/dev_data/dev_data/slider/train'\n",
        "TEST_WAV  = 'DATA/dev_data/dev_data/slider/test'\n",
        "EMB_DIR   = 'DATA/embeddings_panns'\n",
        "os.makedirs(f'{EMB_DIR}/train', exist_ok=True)\n",
        "os.makedirs(f'{EMB_DIR}/test',  exist_ok=True)\n",
        "\n",
        "# Import PANNs Inference API\n",
        "from panns_inference import AudioTagging\n",
        "\n",
        "# Initialize AudioTagging (uses pretrained CNN14_16k under the hood)\n",
        "at = AudioTagging(checkpoint_path=None, device=DEVICE)\n",
        "\n",
        "# Function to extract and save embeddings from PANNs\n",
        "import torchaudio.functional as Ffunc\n",
        "\n",
        "def extract_save(wav_list, split):\n",
        "    out_dir = os.path.join(EMB_DIR, split)\n",
        "    for wav in tqdm(wav_list, desc=f'Extract {split}', leave=False):\n",
        "        name = os.path.basename(wav).replace('.wav', '.npy')\n",
        "        out_path = os.path.join(out_dir, name)\n",
        "        if os.path.exists(out_path):\n",
        "            continue\n",
        "        y, sr = torchaudio.load(wav)\n",
        "        # PANNs Inference expects 32 kHz\n",
        "        if sr != 32000:\n",
        "            y = Ffunc.resample(y, sr, 32000)\n",
        "        # to numpy batch\n",
        "        y_np = y.squeeze(0).cpu().numpy()[None, :]\n",
        "        # get clipwise embedding\n",
        "        _, emb = at.inference(y_np)\n",
        "        emb = emb[0]  # shape: [2048]\n",
        "        np.save(out_path, emb)\n",
        "\n",
        "# Run extraction on train & test sets\n",
        "train_files = sorted(glob.glob(os.path.join(TRAIN_WAV, '*.wav')))\n",
        "test_files  = sorted(glob.glob(os.path.join(TEST_WAV,  '*.wav')))\n",
        "extract_save(train_files, 'train')\n",
        "extract_save(test_files,  'test')"
      ]
    },
    {
      "cell_type": "markdown",
      "metadata": {},
      "source": [
        "## Dataset & DataLoader"
      ]
    },
    {
      "cell_type": "code",
      "execution_count": 31,
      "metadata": {},
      "outputs": [],
      "source": [
        "class PannsDataset(Dataset):\n",
        "    def __init__(self, folder):\n",
        "        self.files = sorted(glob.glob(os.path.join(folder, '*.npy')))\n",
        "    def __len__(self): return len(self.files)\n",
        "    def __getitem__(self, idx):\n",
        "        arr = np.load(self.files[idx])  # [2048]\n",
        "        x = torch.tensor(arr, dtype=torch.float32)\n",
        "        label = 0 if 'normal' in self.files[idx].lower() else 1\n",
        "        return x, label\n",
        "BATCH=512\n",
        "train_ds = PannsDataset(f'{EMB_DIR}/train')\n",
        "test_ds  = PannsDataset(f'{EMB_DIR}/test')\n",
        "train_dl = DataLoader(train_ds, batch_size=BATCH, shuffle=True, num_workers=0)\n",
        "test_dl  = DataLoader(test_ds,  batch_size=BATCH, shuffle=False, num_workers=0)"
      ]
    },
    {
      "cell_type": "markdown",
      "metadata": {},
      "source": [
        "## Fully‑Connected Autoencoder on PANN Embeddings"
      ]
    },
    {
      "cell_type": "code",
      "execution_count": 32,
      "metadata": {},
      "outputs": [
        {
          "name": "stdout",
          "output_type": "stream",
          "text": [
            "PannAE(\n",
            "  (enc): Sequential(\n",
            "    (0): Linear(in_features=2048, out_features=512, bias=True)\n",
            "    (1): ReLU()\n",
            "  )\n",
            "  (dec): Sequential(\n",
            "    (0): Linear(in_features=512, out_features=2048, bias=True)\n",
            "    (1): ReLU()\n",
            "  )\n",
            ")\n"
          ]
        }
      ],
      "source": [
        "INPUT_DIM=2048\n",
        "HID=512\n",
        "class PannAE(nn.Module):\n",
        "    def __init__(self):\n",
        "        super().__init__()\n",
        "        self.enc = nn.Sequential(nn.Linear(INPUT_DIM,HID), nn.ReLU())\n",
        "        self.dec = nn.Sequential(nn.Linear(HID,INPUT_DIM), nn.ReLU())\n",
        "    def forward(self,x): return self.dec(self.enc(x))\n",
        "model = PannAE().to(DEVICE)\n",
        "print(model)"
      ]
    },
    {
      "cell_type": "markdown",
      "metadata": {},
      "source": [
        "## Training Loop"
      ]
    },
    {
      "cell_type": "code",
      "execution_count": 33,
      "metadata": {},
      "outputs": [
        {
          "name": "stderr",
          "output_type": "stream",
          "text": [
            "Epoch 1/500: 100%|██████████| 5/5 [00:00<00:00,  6.38it/s]\n"
          ]
        },
        {
          "name": "stdout",
          "output_type": "stream",
          "text": [
            "Epoch 1 Loss: 0.038053\n",
            "--> New best model saved at epoch 1 with loss 0.038053\n"
          ]
        },
        {
          "name": "stderr",
          "output_type": "stream",
          "text": [
            "Epoch 2/500: 100%|██████████| 5/5 [00:00<00:00,  7.93it/s]\n"
          ]
        },
        {
          "name": "stdout",
          "output_type": "stream",
          "text": [
            "Epoch 2 Loss: 0.017384\n",
            "--> New best model saved at epoch 2 with loss 0.017384\n"
          ]
        },
        {
          "name": "stderr",
          "output_type": "stream",
          "text": [
            "Epoch 3/500: 100%|██████████| 5/5 [00:00<00:00,  7.78it/s]\n"
          ]
        },
        {
          "name": "stdout",
          "output_type": "stream",
          "text": [
            "Epoch 3 Loss: 0.014589\n",
            "--> New best model saved at epoch 3 with loss 0.014589\n"
          ]
        },
        {
          "name": "stderr",
          "output_type": "stream",
          "text": [
            "Epoch 4/500: 100%|██████████| 5/5 [00:00<00:00,  7.94it/s]\n"
          ]
        },
        {
          "name": "stdout",
          "output_type": "stream",
          "text": [
            "Epoch 4 Loss: 0.011824\n",
            "--> New best model saved at epoch 4 with loss 0.011824\n"
          ]
        },
        {
          "name": "stderr",
          "output_type": "stream",
          "text": [
            "Epoch 5/500: 100%|██████████| 5/5 [00:00<00:00,  7.99it/s]\n"
          ]
        },
        {
          "name": "stdout",
          "output_type": "stream",
          "text": [
            "Epoch 5 Loss: 0.010031\n",
            "--> New best model saved at epoch 5 with loss 0.010031\n"
          ]
        },
        {
          "name": "stderr",
          "output_type": "stream",
          "text": [
            "Epoch 6/500: 100%|██████████| 5/5 [00:00<00:00,  8.06it/s]\n"
          ]
        },
        {
          "name": "stdout",
          "output_type": "stream",
          "text": [
            "Epoch 6 Loss: 0.009042\n",
            "--> New best model saved at epoch 6 with loss 0.009042\n"
          ]
        },
        {
          "name": "stderr",
          "output_type": "stream",
          "text": [
            "Epoch 7/500: 100%|██████████| 5/5 [00:00<00:00,  8.10it/s]\n"
          ]
        },
        {
          "name": "stdout",
          "output_type": "stream",
          "text": [
            "Epoch 7 Loss: 0.008184\n",
            "--> New best model saved at epoch 7 with loss 0.008184\n"
          ]
        },
        {
          "name": "stderr",
          "output_type": "stream",
          "text": [
            "Epoch 8/500: 100%|██████████| 5/5 [00:00<00:00,  8.16it/s]\n"
          ]
        },
        {
          "name": "stdout",
          "output_type": "stream",
          "text": [
            "Epoch 8 Loss: 0.007447\n",
            "--> New best model saved at epoch 8 with loss 0.007447\n"
          ]
        },
        {
          "name": "stderr",
          "output_type": "stream",
          "text": [
            "Epoch 9/500: 100%|██████████| 5/5 [00:00<00:00,  7.92it/s]\n"
          ]
        },
        {
          "name": "stdout",
          "output_type": "stream",
          "text": [
            "Epoch 9 Loss: 0.006899\n",
            "--> New best model saved at epoch 9 with loss 0.006899\n"
          ]
        },
        {
          "name": "stderr",
          "output_type": "stream",
          "text": [
            "Epoch 10/500: 100%|██████████| 5/5 [00:00<00:00,  8.06it/s]\n"
          ]
        },
        {
          "name": "stdout",
          "output_type": "stream",
          "text": [
            "Epoch 10 Loss: 0.006501\n",
            "--> New best model saved at epoch 10 with loss 0.006501\n"
          ]
        },
        {
          "name": "stderr",
          "output_type": "stream",
          "text": [
            "Epoch 11/500: 100%|██████████| 5/5 [00:00<00:00,  8.03it/s]\n"
          ]
        },
        {
          "name": "stdout",
          "output_type": "stream",
          "text": [
            "Epoch 11 Loss: 0.006209\n",
            "--> New best model saved at epoch 11 with loss 0.006209\n"
          ]
        },
        {
          "name": "stderr",
          "output_type": "stream",
          "text": [
            "Epoch 12/500: 100%|██████████| 5/5 [00:00<00:00,  8.16it/s]\n"
          ]
        },
        {
          "name": "stdout",
          "output_type": "stream",
          "text": [
            "Epoch 12 Loss: 0.005960\n",
            "--> New best model saved at epoch 12 with loss 0.005960\n"
          ]
        },
        {
          "name": "stderr",
          "output_type": "stream",
          "text": [
            "Epoch 13/500: 100%|██████████| 5/5 [00:00<00:00,  7.97it/s]\n"
          ]
        },
        {
          "name": "stdout",
          "output_type": "stream",
          "text": [
            "Epoch 13 Loss: 0.005766\n",
            "--> New best model saved at epoch 13 with loss 0.005766\n"
          ]
        },
        {
          "name": "stderr",
          "output_type": "stream",
          "text": [
            "Epoch 14/500: 100%|██████████| 5/5 [00:00<00:00,  7.83it/s]\n"
          ]
        },
        {
          "name": "stdout",
          "output_type": "stream",
          "text": [
            "Epoch 14 Loss: 0.005588\n",
            "--> New best model saved at epoch 14 with loss 0.005588\n"
          ]
        },
        {
          "name": "stderr",
          "output_type": "stream",
          "text": [
            "Epoch 15/500: 100%|██████████| 5/5 [00:00<00:00,  8.14it/s]\n"
          ]
        },
        {
          "name": "stdout",
          "output_type": "stream",
          "text": [
            "Epoch 15 Loss: 0.005443\n",
            "--> New best model saved at epoch 15 with loss 0.005443\n"
          ]
        },
        {
          "name": "stderr",
          "output_type": "stream",
          "text": [
            "Epoch 16/500: 100%|██████████| 5/5 [00:00<00:00,  8.11it/s]\n"
          ]
        },
        {
          "name": "stdout",
          "output_type": "stream",
          "text": [
            "Epoch 16 Loss: 0.005281\n",
            "--> New best model saved at epoch 16 with loss 0.005281\n"
          ]
        },
        {
          "name": "stderr",
          "output_type": "stream",
          "text": [
            "Epoch 17/500: 100%|██████████| 5/5 [00:00<00:00,  7.93it/s]\n"
          ]
        },
        {
          "name": "stdout",
          "output_type": "stream",
          "text": [
            "Epoch 17 Loss: 0.005121\n",
            "--> New best model saved at epoch 17 with loss 0.005121\n"
          ]
        },
        {
          "name": "stderr",
          "output_type": "stream",
          "text": [
            "Epoch 18/500: 100%|██████████| 5/5 [00:00<00:00,  8.24it/s]\n"
          ]
        },
        {
          "name": "stdout",
          "output_type": "stream",
          "text": [
            "Epoch 18 Loss: 0.004992\n",
            "--> New best model saved at epoch 18 with loss 0.004992\n"
          ]
        },
        {
          "name": "stderr",
          "output_type": "stream",
          "text": [
            "Epoch 19/500: 100%|██████████| 5/5 [00:00<00:00,  7.75it/s]\n"
          ]
        },
        {
          "name": "stdout",
          "output_type": "stream",
          "text": [
            "Epoch 19 Loss: 0.004886\n",
            "--> New best model saved at epoch 19 with loss 0.004886\n"
          ]
        },
        {
          "name": "stderr",
          "output_type": "stream",
          "text": [
            "Epoch 20/500: 100%|██████████| 5/5 [00:00<00:00,  8.20it/s]\n"
          ]
        },
        {
          "name": "stdout",
          "output_type": "stream",
          "text": [
            "Epoch 20 Loss: 0.004798\n",
            "No improvement for 1/20 epochs.\n"
          ]
        },
        {
          "name": "stderr",
          "output_type": "stream",
          "text": [
            "Epoch 21/500: 100%|██████████| 5/5 [00:00<00:00,  7.87it/s]\n"
          ]
        },
        {
          "name": "stdout",
          "output_type": "stream",
          "text": [
            "Epoch 21 Loss: 0.004720\n",
            "--> New best model saved at epoch 21 with loss 0.004720\n"
          ]
        },
        {
          "name": "stderr",
          "output_type": "stream",
          "text": [
            "Epoch 22/500: 100%|██████████| 5/5 [00:00<00:00,  8.19it/s]\n"
          ]
        },
        {
          "name": "stdout",
          "output_type": "stream",
          "text": [
            "Epoch 22 Loss: 0.004625\n",
            "No improvement for 1/20 epochs.\n"
          ]
        },
        {
          "name": "stderr",
          "output_type": "stream",
          "text": [
            "Epoch 23/500: 100%|██████████| 5/5 [00:00<00:00,  7.71it/s]\n"
          ]
        },
        {
          "name": "stdout",
          "output_type": "stream",
          "text": [
            "Epoch 23 Loss: 0.004464\n",
            "--> New best model saved at epoch 23 with loss 0.004464\n"
          ]
        },
        {
          "name": "stderr",
          "output_type": "stream",
          "text": [
            "Epoch 24/500: 100%|██████████| 5/5 [00:00<00:00,  8.22it/s]\n"
          ]
        },
        {
          "name": "stdout",
          "output_type": "stream",
          "text": [
            "Epoch 24 Loss: 0.004355\n",
            "--> New best model saved at epoch 24 with loss 0.004355\n"
          ]
        },
        {
          "name": "stderr",
          "output_type": "stream",
          "text": [
            "Epoch 25/500: 100%|██████████| 5/5 [00:00<00:00,  7.94it/s]\n"
          ]
        },
        {
          "name": "stdout",
          "output_type": "stream",
          "text": [
            "Epoch 25 Loss: 0.004283\n",
            "No improvement for 1/20 epochs.\n"
          ]
        },
        {
          "name": "stderr",
          "output_type": "stream",
          "text": [
            "Epoch 26/500: 100%|██████████| 5/5 [00:00<00:00,  8.09it/s]\n"
          ]
        },
        {
          "name": "stdout",
          "output_type": "stream",
          "text": [
            "Epoch 26 Loss: 0.004224\n",
            "--> New best model saved at epoch 26 with loss 0.004224\n"
          ]
        },
        {
          "name": "stderr",
          "output_type": "stream",
          "text": [
            "Epoch 27/500: 100%|██████████| 5/5 [00:00<00:00,  8.05it/s]\n"
          ]
        },
        {
          "name": "stdout",
          "output_type": "stream",
          "text": [
            "Epoch 27 Loss: 0.004169\n",
            "No improvement for 1/20 epochs.\n"
          ]
        },
        {
          "name": "stderr",
          "output_type": "stream",
          "text": [
            "Epoch 28/500: 100%|██████████| 5/5 [00:00<00:00,  7.47it/s]\n"
          ]
        },
        {
          "name": "stdout",
          "output_type": "stream",
          "text": [
            "Epoch 28 Loss: 0.004121\n",
            "--> New best model saved at epoch 28 with loss 0.004121\n"
          ]
        },
        {
          "name": "stderr",
          "output_type": "stream",
          "text": [
            "Epoch 29/500: 100%|██████████| 5/5 [00:00<00:00,  7.91it/s]\n"
          ]
        },
        {
          "name": "stdout",
          "output_type": "stream",
          "text": [
            "Epoch 29 Loss: 0.004077\n",
            "No improvement for 1/20 epochs.\n"
          ]
        },
        {
          "name": "stderr",
          "output_type": "stream",
          "text": [
            "Epoch 30/500: 100%|██████████| 5/5 [00:00<00:00,  8.13it/s]\n"
          ]
        },
        {
          "name": "stdout",
          "output_type": "stream",
          "text": [
            "Epoch 30 Loss: 0.004035\n",
            "No improvement for 2/20 epochs.\n"
          ]
        },
        {
          "name": "stderr",
          "output_type": "stream",
          "text": [
            "Epoch 31/500: 100%|██████████| 5/5 [00:00<00:00,  7.84it/s]\n"
          ]
        },
        {
          "name": "stdout",
          "output_type": "stream",
          "text": [
            "Epoch 31 Loss: 0.003997\n",
            "--> New best model saved at epoch 31 with loss 0.003997\n"
          ]
        },
        {
          "name": "stderr",
          "output_type": "stream",
          "text": [
            "Epoch 32/500: 100%|██████████| 5/5 [00:00<00:00,  6.53it/s]\n"
          ]
        },
        {
          "name": "stdout",
          "output_type": "stream",
          "text": [
            "Epoch 32 Loss: 0.003960\n",
            "No improvement for 1/20 epochs.\n"
          ]
        },
        {
          "name": "stderr",
          "output_type": "stream",
          "text": [
            "Epoch 33/500: 100%|██████████| 5/5 [00:00<00:00,  7.91it/s]\n"
          ]
        },
        {
          "name": "stdout",
          "output_type": "stream",
          "text": [
            "Epoch 33 Loss: 0.003926\n",
            "No improvement for 2/20 epochs.\n"
          ]
        },
        {
          "name": "stderr",
          "output_type": "stream",
          "text": [
            "Epoch 34/500: 100%|██████████| 5/5 [00:00<00:00,  7.88it/s]\n"
          ]
        },
        {
          "name": "stdout",
          "output_type": "stream",
          "text": [
            "Epoch 34 Loss: 0.003894\n",
            "--> New best model saved at epoch 34 with loss 0.003894\n"
          ]
        },
        {
          "name": "stderr",
          "output_type": "stream",
          "text": [
            "Epoch 35/500: 100%|██████████| 5/5 [00:00<00:00,  8.14it/s]\n"
          ]
        },
        {
          "name": "stdout",
          "output_type": "stream",
          "text": [
            "Epoch 35 Loss: 0.003846\n",
            "No improvement for 1/20 epochs.\n"
          ]
        },
        {
          "name": "stderr",
          "output_type": "stream",
          "text": [
            "Epoch 36/500: 100%|██████████| 5/5 [00:00<00:00,  8.01it/s]\n"
          ]
        },
        {
          "name": "stdout",
          "output_type": "stream",
          "text": [
            "Epoch 36 Loss: 0.003801\n",
            "No improvement for 2/20 epochs.\n"
          ]
        },
        {
          "name": "stderr",
          "output_type": "stream",
          "text": [
            "Epoch 37/500: 100%|██████████| 5/5 [00:00<00:00,  7.72it/s]\n"
          ]
        },
        {
          "name": "stdout",
          "output_type": "stream",
          "text": [
            "Epoch 37 Loss: 0.003770\n",
            "--> New best model saved at epoch 37 with loss 0.003770\n"
          ]
        },
        {
          "name": "stderr",
          "output_type": "stream",
          "text": [
            "Epoch 38/500: 100%|██████████| 5/5 [00:00<00:00,  8.04it/s]\n"
          ]
        },
        {
          "name": "stdout",
          "output_type": "stream",
          "text": [
            "Epoch 38 Loss: 0.003743\n",
            "No improvement for 1/20 epochs.\n"
          ]
        },
        {
          "name": "stderr",
          "output_type": "stream",
          "text": [
            "Epoch 39/500: 100%|██████████| 5/5 [00:00<00:00,  8.10it/s]\n"
          ]
        },
        {
          "name": "stdout",
          "output_type": "stream",
          "text": [
            "Epoch 39 Loss: 0.003716\n",
            "No improvement for 2/20 epochs.\n"
          ]
        },
        {
          "name": "stderr",
          "output_type": "stream",
          "text": [
            "Epoch 40/500: 100%|██████████| 5/5 [00:00<00:00,  7.90it/s]\n"
          ]
        },
        {
          "name": "stdout",
          "output_type": "stream",
          "text": [
            "Epoch 40 Loss: 0.003690\n",
            "No improvement for 3/20 epochs.\n"
          ]
        },
        {
          "name": "stderr",
          "output_type": "stream",
          "text": [
            "Epoch 41/500: 100%|██████████| 5/5 [00:00<00:00,  8.10it/s]\n"
          ]
        },
        {
          "name": "stdout",
          "output_type": "stream",
          "text": [
            "Epoch 41 Loss: 0.003666\n",
            "--> New best model saved at epoch 41 with loss 0.003666\n"
          ]
        },
        {
          "name": "stderr",
          "output_type": "stream",
          "text": [
            "Epoch 42/500: 100%|██████████| 5/5 [00:00<00:00,  7.99it/s]\n"
          ]
        },
        {
          "name": "stdout",
          "output_type": "stream",
          "text": [
            "Epoch 42 Loss: 0.003643\n",
            "No improvement for 1/20 epochs.\n"
          ]
        },
        {
          "name": "stderr",
          "output_type": "stream",
          "text": [
            "Epoch 43/500: 100%|██████████| 5/5 [00:00<00:00,  7.72it/s]\n"
          ]
        },
        {
          "name": "stdout",
          "output_type": "stream",
          "text": [
            "Epoch 43 Loss: 0.003622\n",
            "No improvement for 2/20 epochs.\n"
          ]
        },
        {
          "name": "stderr",
          "output_type": "stream",
          "text": [
            "Epoch 44/500: 100%|██████████| 5/5 [00:00<00:00,  7.88it/s]\n"
          ]
        },
        {
          "name": "stdout",
          "output_type": "stream",
          "text": [
            "Epoch 44 Loss: 0.003601\n",
            "No improvement for 3/20 epochs.\n"
          ]
        },
        {
          "name": "stderr",
          "output_type": "stream",
          "text": [
            "Epoch 45/500: 100%|██████████| 5/5 [00:00<00:00,  8.06it/s]\n"
          ]
        },
        {
          "name": "stdout",
          "output_type": "stream",
          "text": [
            "Epoch 45 Loss: 0.003581\n",
            "No improvement for 4/20 epochs.\n"
          ]
        },
        {
          "name": "stderr",
          "output_type": "stream",
          "text": [
            "Epoch 46/500: 100%|██████████| 5/5 [00:00<00:00,  7.96it/s]\n"
          ]
        },
        {
          "name": "stdout",
          "output_type": "stream",
          "text": [
            "Epoch 46 Loss: 0.003561\n",
            "--> New best model saved at epoch 46 with loss 0.003561\n"
          ]
        },
        {
          "name": "stderr",
          "output_type": "stream",
          "text": [
            "Epoch 47/500: 100%|██████████| 5/5 [00:00<00:00,  7.96it/s]\n"
          ]
        },
        {
          "name": "stdout",
          "output_type": "stream",
          "text": [
            "Epoch 47 Loss: 0.003543\n",
            "No improvement for 1/20 epochs.\n"
          ]
        },
        {
          "name": "stderr",
          "output_type": "stream",
          "text": [
            "Epoch 48/500: 100%|██████████| 5/5 [00:00<00:00,  7.94it/s]\n"
          ]
        },
        {
          "name": "stdout",
          "output_type": "stream",
          "text": [
            "Epoch 48 Loss: 0.003525\n",
            "No improvement for 2/20 epochs.\n"
          ]
        },
        {
          "name": "stderr",
          "output_type": "stream",
          "text": [
            "Epoch 49/500: 100%|██████████| 5/5 [00:00<00:00,  8.10it/s]\n"
          ]
        },
        {
          "name": "stdout",
          "output_type": "stream",
          "text": [
            "Epoch 49 Loss: 0.003508\n",
            "No improvement for 3/20 epochs.\n"
          ]
        },
        {
          "name": "stderr",
          "output_type": "stream",
          "text": [
            "Epoch 50/500: 100%|██████████| 5/5 [00:00<00:00,  7.87it/s]\n"
          ]
        },
        {
          "name": "stdout",
          "output_type": "stream",
          "text": [
            "Epoch 50 Loss: 0.003492\n",
            "No improvement for 4/20 epochs.\n"
          ]
        },
        {
          "name": "stderr",
          "output_type": "stream",
          "text": [
            "Epoch 51/500: 100%|██████████| 5/5 [00:00<00:00,  7.92it/s]\n"
          ]
        },
        {
          "name": "stdout",
          "output_type": "stream",
          "text": [
            "Epoch 51 Loss: 0.003476\n",
            "No improvement for 5/20 epochs.\n"
          ]
        },
        {
          "name": "stderr",
          "output_type": "stream",
          "text": [
            "Epoch 52/500: 100%|██████████| 5/5 [00:00<00:00,  7.89it/s]\n"
          ]
        },
        {
          "name": "stdout",
          "output_type": "stream",
          "text": [
            "Epoch 52 Loss: 0.003462\n",
            "No improvement for 6/20 epochs.\n"
          ]
        },
        {
          "name": "stderr",
          "output_type": "stream",
          "text": [
            "Epoch 53/500: 100%|██████████| 5/5 [00:00<00:00,  7.90it/s]\n"
          ]
        },
        {
          "name": "stdout",
          "output_type": "stream",
          "text": [
            "Epoch 53 Loss: 0.003447\n",
            "--> New best model saved at epoch 53 with loss 0.003447\n"
          ]
        },
        {
          "name": "stderr",
          "output_type": "stream",
          "text": [
            "Epoch 54/500: 100%|██████████| 5/5 [00:00<00:00,  8.03it/s]\n"
          ]
        },
        {
          "name": "stdout",
          "output_type": "stream",
          "text": [
            "Epoch 54 Loss: 0.003434\n",
            "No improvement for 1/20 epochs.\n"
          ]
        },
        {
          "name": "stderr",
          "output_type": "stream",
          "text": [
            "Epoch 55/500: 100%|██████████| 5/5 [00:00<00:00,  7.91it/s]\n"
          ]
        },
        {
          "name": "stdout",
          "output_type": "stream",
          "text": [
            "Epoch 55 Loss: 0.003420\n",
            "No improvement for 2/20 epochs.\n"
          ]
        },
        {
          "name": "stderr",
          "output_type": "stream",
          "text": [
            "Epoch 56/500: 100%|██████████| 5/5 [00:00<00:00,  8.00it/s]\n"
          ]
        },
        {
          "name": "stdout",
          "output_type": "stream",
          "text": [
            "Epoch 56 Loss: 0.003407\n",
            "No improvement for 3/20 epochs.\n"
          ]
        },
        {
          "name": "stderr",
          "output_type": "stream",
          "text": [
            "Epoch 57/500: 100%|██████████| 5/5 [00:00<00:00,  7.82it/s]\n"
          ]
        },
        {
          "name": "stdout",
          "output_type": "stream",
          "text": [
            "Epoch 57 Loss: 0.003277\n",
            "--> New best model saved at epoch 57 with loss 0.003277\n"
          ]
        },
        {
          "name": "stderr",
          "output_type": "stream",
          "text": [
            "Epoch 58/500: 100%|██████████| 5/5 [00:00<00:00,  7.75it/s]\n"
          ]
        },
        {
          "name": "stdout",
          "output_type": "stream",
          "text": [
            "Epoch 58 Loss: 0.003173\n",
            "--> New best model saved at epoch 58 with loss 0.003173\n"
          ]
        },
        {
          "name": "stderr",
          "output_type": "stream",
          "text": [
            "Epoch 59/500: 100%|██████████| 5/5 [00:00<00:00,  7.96it/s]\n"
          ]
        },
        {
          "name": "stdout",
          "output_type": "stream",
          "text": [
            "Epoch 59 Loss: 0.003136\n",
            "No improvement for 1/20 epochs.\n"
          ]
        },
        {
          "name": "stderr",
          "output_type": "stream",
          "text": [
            "Epoch 60/500: 100%|██████████| 5/5 [00:00<00:00,  8.02it/s]\n"
          ]
        },
        {
          "name": "stdout",
          "output_type": "stream",
          "text": [
            "Epoch 60 Loss: 0.003102\n",
            "No improvement for 2/20 epochs.\n"
          ]
        },
        {
          "name": "stderr",
          "output_type": "stream",
          "text": [
            "Epoch 61/500: 100%|██████████| 5/5 [00:00<00:00,  7.98it/s]\n"
          ]
        },
        {
          "name": "stdout",
          "output_type": "stream",
          "text": [
            "Epoch 61 Loss: 0.003080\n",
            "No improvement for 3/20 epochs.\n"
          ]
        },
        {
          "name": "stderr",
          "output_type": "stream",
          "text": [
            "Epoch 62/500: 100%|██████████| 5/5 [00:00<00:00,  8.29it/s]\n"
          ]
        },
        {
          "name": "stdout",
          "output_type": "stream",
          "text": [
            "Epoch 62 Loss: 0.003065\n",
            "--> New best model saved at epoch 62 with loss 0.003065\n"
          ]
        },
        {
          "name": "stderr",
          "output_type": "stream",
          "text": [
            "Epoch 63/500: 100%|██████████| 5/5 [00:00<00:00,  7.93it/s]\n"
          ]
        },
        {
          "name": "stdout",
          "output_type": "stream",
          "text": [
            "Epoch 63 Loss: 0.003053\n",
            "No improvement for 1/20 epochs.\n"
          ]
        },
        {
          "name": "stderr",
          "output_type": "stream",
          "text": [
            "Epoch 64/500: 100%|██████████| 5/5 [00:00<00:00,  8.12it/s]\n"
          ]
        },
        {
          "name": "stdout",
          "output_type": "stream",
          "text": [
            "Epoch 64 Loss: 0.003040\n",
            "No improvement for 2/20 epochs.\n"
          ]
        },
        {
          "name": "stderr",
          "output_type": "stream",
          "text": [
            "Epoch 65/500: 100%|██████████| 5/5 [00:00<00:00,  8.09it/s]\n"
          ]
        },
        {
          "name": "stdout",
          "output_type": "stream",
          "text": [
            "Epoch 65 Loss: 0.003028\n",
            "No improvement for 3/20 epochs.\n"
          ]
        },
        {
          "name": "stderr",
          "output_type": "stream",
          "text": [
            "Epoch 66/500: 100%|██████████| 5/5 [00:00<00:00,  8.14it/s]\n"
          ]
        },
        {
          "name": "stdout",
          "output_type": "stream",
          "text": [
            "Epoch 66 Loss: 0.003018\n",
            "No improvement for 4/20 epochs.\n"
          ]
        },
        {
          "name": "stderr",
          "output_type": "stream",
          "text": [
            "Epoch 67/500: 100%|██████████| 5/5 [00:00<00:00,  7.89it/s]\n"
          ]
        },
        {
          "name": "stdout",
          "output_type": "stream",
          "text": [
            "Epoch 67 Loss: 0.003008\n",
            "No improvement for 5/20 epochs.\n"
          ]
        },
        {
          "name": "stderr",
          "output_type": "stream",
          "text": [
            "Epoch 68/500: 100%|██████████| 5/5 [00:00<00:00,  8.09it/s]\n"
          ]
        },
        {
          "name": "stdout",
          "output_type": "stream",
          "text": [
            "Epoch 68 Loss: 0.002999\n",
            "No improvement for 6/20 epochs.\n"
          ]
        },
        {
          "name": "stderr",
          "output_type": "stream",
          "text": [
            "Epoch 69/500: 100%|██████████| 5/5 [00:00<00:00,  8.04it/s]\n"
          ]
        },
        {
          "name": "stdout",
          "output_type": "stream",
          "text": [
            "Epoch 69 Loss: 0.002990\n",
            "No improvement for 7/20 epochs.\n"
          ]
        },
        {
          "name": "stderr",
          "output_type": "stream",
          "text": [
            "Epoch 70/500: 100%|██████████| 5/5 [00:00<00:00,  7.88it/s]\n"
          ]
        },
        {
          "name": "stdout",
          "output_type": "stream",
          "text": [
            "Epoch 70 Loss: 0.002981\n",
            "No improvement for 8/20 epochs.\n"
          ]
        },
        {
          "name": "stderr",
          "output_type": "stream",
          "text": [
            "Epoch 71/500: 100%|██████████| 5/5 [00:00<00:00,  7.90it/s]\n"
          ]
        },
        {
          "name": "stdout",
          "output_type": "stream",
          "text": [
            "Epoch 71 Loss: 0.002973\n",
            "No improvement for 9/20 epochs.\n"
          ]
        },
        {
          "name": "stderr",
          "output_type": "stream",
          "text": [
            "Epoch 72/500: 100%|██████████| 5/5 [00:00<00:00,  7.53it/s]\n"
          ]
        },
        {
          "name": "stdout",
          "output_type": "stream",
          "text": [
            "Epoch 72 Loss: 0.002965\n",
            "No improvement for 10/20 epochs.\n"
          ]
        },
        {
          "name": "stderr",
          "output_type": "stream",
          "text": [
            "Epoch 73/500: 100%|██████████| 5/5 [00:00<00:00,  7.84it/s]\n"
          ]
        },
        {
          "name": "stdout",
          "output_type": "stream",
          "text": [
            "Epoch 73 Loss: 0.002958\n",
            "--> New best model saved at epoch 73 with loss 0.002958\n"
          ]
        },
        {
          "name": "stderr",
          "output_type": "stream",
          "text": [
            "Epoch 74/500: 100%|██████████| 5/5 [00:00<00:00,  8.01it/s]\n"
          ]
        },
        {
          "name": "stdout",
          "output_type": "stream",
          "text": [
            "Epoch 74 Loss: 0.002950\n",
            "No improvement for 1/20 epochs.\n"
          ]
        },
        {
          "name": "stderr",
          "output_type": "stream",
          "text": [
            "Epoch 75/500: 100%|██████████| 5/5 [00:00<00:00,  8.28it/s]\n"
          ]
        },
        {
          "name": "stdout",
          "output_type": "stream",
          "text": [
            "Epoch 75 Loss: 0.002943\n",
            "No improvement for 2/20 epochs.\n"
          ]
        },
        {
          "name": "stderr",
          "output_type": "stream",
          "text": [
            "Epoch 76/500: 100%|██████████| 5/5 [00:00<00:00,  8.14it/s]\n"
          ]
        },
        {
          "name": "stdout",
          "output_type": "stream",
          "text": [
            "Epoch 76 Loss: 0.002936\n",
            "No improvement for 3/20 epochs.\n"
          ]
        },
        {
          "name": "stderr",
          "output_type": "stream",
          "text": [
            "Epoch 77/500: 100%|██████████| 5/5 [00:00<00:00,  8.31it/s]\n"
          ]
        },
        {
          "name": "stdout",
          "output_type": "stream",
          "text": [
            "Epoch 77 Loss: 0.002929\n",
            "No improvement for 4/20 epochs.\n"
          ]
        },
        {
          "name": "stderr",
          "output_type": "stream",
          "text": [
            "Epoch 78/500: 100%|██████████| 5/5 [00:00<00:00,  7.98it/s]\n"
          ]
        },
        {
          "name": "stdout",
          "output_type": "stream",
          "text": [
            "Epoch 78 Loss: 0.002922\n",
            "No improvement for 5/20 epochs.\n"
          ]
        },
        {
          "name": "stderr",
          "output_type": "stream",
          "text": [
            "Epoch 79/500: 100%|██████████| 5/5 [00:00<00:00,  8.03it/s]\n"
          ]
        },
        {
          "name": "stdout",
          "output_type": "stream",
          "text": [
            "Epoch 79 Loss: 0.002915\n",
            "No improvement for 6/20 epochs.\n"
          ]
        },
        {
          "name": "stderr",
          "output_type": "stream",
          "text": [
            "Epoch 80/500: 100%|██████████| 5/5 [00:00<00:00,  7.91it/s]\n"
          ]
        },
        {
          "name": "stdout",
          "output_type": "stream",
          "text": [
            "Epoch 80 Loss: 0.002900\n",
            "No improvement for 7/20 epochs.\n"
          ]
        },
        {
          "name": "stderr",
          "output_type": "stream",
          "text": [
            "Epoch 81/500: 100%|██████████| 5/5 [00:00<00:00,  8.09it/s]\n"
          ]
        },
        {
          "name": "stdout",
          "output_type": "stream",
          "text": [
            "Epoch 81 Loss: 0.002888\n",
            "No improvement for 8/20 epochs.\n"
          ]
        },
        {
          "name": "stderr",
          "output_type": "stream",
          "text": [
            "Epoch 82/500: 100%|██████████| 5/5 [00:00<00:00,  8.11it/s]\n"
          ]
        },
        {
          "name": "stdout",
          "output_type": "stream",
          "text": [
            "Epoch 82 Loss: 0.002880\n",
            "No improvement for 9/20 epochs.\n"
          ]
        },
        {
          "name": "stderr",
          "output_type": "stream",
          "text": [
            "Epoch 83/500: 100%|██████████| 5/5 [00:00<00:00,  8.09it/s]\n"
          ]
        },
        {
          "name": "stdout",
          "output_type": "stream",
          "text": [
            "Epoch 83 Loss: 0.002874\n",
            "No improvement for 10/20 epochs.\n"
          ]
        },
        {
          "name": "stderr",
          "output_type": "stream",
          "text": [
            "Epoch 84/500: 100%|██████████| 5/5 [00:00<00:00,  7.92it/s]\n"
          ]
        },
        {
          "name": "stdout",
          "output_type": "stream",
          "text": [
            "Epoch 84 Loss: 0.002868\n",
            "No improvement for 11/20 epochs.\n"
          ]
        },
        {
          "name": "stderr",
          "output_type": "stream",
          "text": [
            "Epoch 85/500: 100%|██████████| 5/5 [00:00<00:00,  7.81it/s]\n"
          ]
        },
        {
          "name": "stdout",
          "output_type": "stream",
          "text": [
            "Epoch 85 Loss: 0.002862\n",
            "No improvement for 12/20 epochs.\n"
          ]
        },
        {
          "name": "stderr",
          "output_type": "stream",
          "text": [
            "Epoch 86/500: 100%|██████████| 5/5 [00:00<00:00,  7.79it/s]\n"
          ]
        },
        {
          "name": "stdout",
          "output_type": "stream",
          "text": [
            "Epoch 86 Loss: 0.002855\n",
            "--> New best model saved at epoch 86 with loss 0.002855\n"
          ]
        },
        {
          "name": "stderr",
          "output_type": "stream",
          "text": [
            "Epoch 87/500: 100%|██████████| 5/5 [00:00<00:00,  6.16it/s]\n"
          ]
        },
        {
          "name": "stdout",
          "output_type": "stream",
          "text": [
            "Epoch 87 Loss: 0.002850\n",
            "No improvement for 1/20 epochs.\n"
          ]
        },
        {
          "name": "stderr",
          "output_type": "stream",
          "text": [
            "Epoch 88/500: 100%|██████████| 5/5 [00:00<00:00,  8.33it/s]\n"
          ]
        },
        {
          "name": "stdout",
          "output_type": "stream",
          "text": [
            "Epoch 88 Loss: 0.002843\n",
            "No improvement for 2/20 epochs.\n"
          ]
        },
        {
          "name": "stderr",
          "output_type": "stream",
          "text": [
            "Epoch 89/500: 100%|██████████| 5/5 [00:00<00:00,  8.02it/s]\n"
          ]
        },
        {
          "name": "stdout",
          "output_type": "stream",
          "text": [
            "Epoch 89 Loss: 0.002838\n",
            "No improvement for 3/20 epochs.\n"
          ]
        },
        {
          "name": "stderr",
          "output_type": "stream",
          "text": [
            "Epoch 90/500: 100%|██████████| 5/5 [00:00<00:00,  8.57it/s]\n"
          ]
        },
        {
          "name": "stdout",
          "output_type": "stream",
          "text": [
            "Epoch 90 Loss: 0.002833\n",
            "No improvement for 4/20 epochs.\n"
          ]
        },
        {
          "name": "stderr",
          "output_type": "stream",
          "text": [
            "Epoch 91/500: 100%|██████████| 5/5 [00:00<00:00,  8.62it/s]\n"
          ]
        },
        {
          "name": "stdout",
          "output_type": "stream",
          "text": [
            "Epoch 91 Loss: 0.002827\n",
            "No improvement for 5/20 epochs.\n"
          ]
        },
        {
          "name": "stderr",
          "output_type": "stream",
          "text": [
            "Epoch 92/500: 100%|██████████| 5/5 [00:00<00:00,  8.87it/s]\n"
          ]
        },
        {
          "name": "stdout",
          "output_type": "stream",
          "text": [
            "Epoch 92 Loss: 0.002823\n",
            "No improvement for 6/20 epochs.\n"
          ]
        },
        {
          "name": "stderr",
          "output_type": "stream",
          "text": [
            "Epoch 93/500: 100%|██████████| 5/5 [00:00<00:00,  8.55it/s]\n"
          ]
        },
        {
          "name": "stdout",
          "output_type": "stream",
          "text": [
            "Epoch 93 Loss: 0.002818\n",
            "No improvement for 7/20 epochs.\n"
          ]
        },
        {
          "name": "stderr",
          "output_type": "stream",
          "text": [
            "Epoch 94/500: 100%|██████████| 5/5 [00:00<00:00,  8.59it/s]\n"
          ]
        },
        {
          "name": "stdout",
          "output_type": "stream",
          "text": [
            "Epoch 94 Loss: 0.002813\n",
            "No improvement for 8/20 epochs.\n"
          ]
        },
        {
          "name": "stderr",
          "output_type": "stream",
          "text": [
            "Epoch 95/500: 100%|██████████| 5/5 [00:00<00:00,  8.31it/s]\n"
          ]
        },
        {
          "name": "stdout",
          "output_type": "stream",
          "text": [
            "Epoch 95 Loss: 0.002809\n",
            "No improvement for 9/20 epochs.\n"
          ]
        },
        {
          "name": "stderr",
          "output_type": "stream",
          "text": [
            "Epoch 96/500: 100%|██████████| 5/5 [00:00<00:00,  7.95it/s]\n"
          ]
        },
        {
          "name": "stdout",
          "output_type": "stream",
          "text": [
            "Epoch 96 Loss: 0.002804\n",
            "No improvement for 10/20 epochs.\n"
          ]
        },
        {
          "name": "stderr",
          "output_type": "stream",
          "text": [
            "Epoch 97/500: 100%|██████████| 5/5 [00:00<00:00,  8.08it/s]\n"
          ]
        },
        {
          "name": "stdout",
          "output_type": "stream",
          "text": [
            "Epoch 97 Loss: 0.002800\n",
            "No improvement for 11/20 epochs.\n"
          ]
        },
        {
          "name": "stderr",
          "output_type": "stream",
          "text": [
            "Epoch 98/500: 100%|██████████| 5/5 [00:00<00:00,  7.84it/s]\n"
          ]
        },
        {
          "name": "stdout",
          "output_type": "stream",
          "text": [
            "Epoch 98 Loss: 0.002796\n",
            "No improvement for 12/20 epochs.\n"
          ]
        },
        {
          "name": "stderr",
          "output_type": "stream",
          "text": [
            "Epoch 99/500: 100%|██████████| 5/5 [00:00<00:00,  7.74it/s]\n"
          ]
        },
        {
          "name": "stdout",
          "output_type": "stream",
          "text": [
            "Epoch 99 Loss: 0.002792\n",
            "No improvement for 13/20 epochs.\n"
          ]
        },
        {
          "name": "stderr",
          "output_type": "stream",
          "text": [
            "Epoch 100/500: 100%|██████████| 5/5 [00:00<00:00,  7.97it/s]\n"
          ]
        },
        {
          "name": "stdout",
          "output_type": "stream",
          "text": [
            "Epoch 100 Loss: 0.002788\n",
            "No improvement for 14/20 epochs.\n"
          ]
        },
        {
          "name": "stderr",
          "output_type": "stream",
          "text": [
            "Epoch 101/500: 100%|██████████| 5/5 [00:00<00:00,  8.11it/s]\n"
          ]
        },
        {
          "name": "stdout",
          "output_type": "stream",
          "text": [
            "Epoch 101 Loss: 0.002783\n",
            "No improvement for 15/20 epochs.\n"
          ]
        },
        {
          "name": "stderr",
          "output_type": "stream",
          "text": [
            "Epoch 102/500: 100%|██████████| 5/5 [00:00<00:00,  7.32it/s]\n"
          ]
        },
        {
          "name": "stdout",
          "output_type": "stream",
          "text": [
            "Epoch 102 Loss: 0.002780\n",
            "No improvement for 16/20 epochs.\n"
          ]
        },
        {
          "name": "stderr",
          "output_type": "stream",
          "text": [
            "Epoch 103/500: 100%|██████████| 5/5 [00:00<00:00,  7.90it/s]\n"
          ]
        },
        {
          "name": "stdout",
          "output_type": "stream",
          "text": [
            "Epoch 103 Loss: 0.002776\n",
            "No improvement for 17/20 epochs.\n"
          ]
        },
        {
          "name": "stderr",
          "output_type": "stream",
          "text": [
            "Epoch 104/500: 100%|██████████| 5/5 [00:00<00:00,  7.89it/s]\n"
          ]
        },
        {
          "name": "stdout",
          "output_type": "stream",
          "text": [
            "Epoch 104 Loss: 0.002772\n",
            "No improvement for 18/20 epochs.\n"
          ]
        },
        {
          "name": "stderr",
          "output_type": "stream",
          "text": [
            "Epoch 105/500: 100%|██████████| 5/5 [00:00<00:00,  8.10it/s]\n"
          ]
        },
        {
          "name": "stdout",
          "output_type": "stream",
          "text": [
            "Epoch 105 Loss: 0.002768\n",
            "No improvement for 19/20 epochs.\n"
          ]
        },
        {
          "name": "stderr",
          "output_type": "stream",
          "text": [
            "Epoch 106/500: 100%|██████████| 5/5 [00:00<00:00,  8.12it/s]"
          ]
        },
        {
          "name": "stdout",
          "output_type": "stream",
          "text": [
            "Epoch 106 Loss: 0.002765\n",
            "No improvement for 20/20 epochs.\n",
            "Stopping early at epoch 106 due to no improvement.\n"
          ]
        },
        {
          "name": "stderr",
          "output_type": "stream",
          "text": [
            "\n"
          ]
        }
      ],
      "source": [
        "# Hyperparameters\n",
        "LR = 1e-3\n",
        "EPOCHS = 500\n",
        "PATIENCE = 20  # early stopping patience\n",
        "MIN_DELTA = 1e-4  \n",
        "optimizer = torch.optim.Adam(model.parameters(), lr=LR)\n",
        "criterion = nn.MSELoss()\n",
        "# Reduce LR on plateau if loss saturates\n",
        "scheduler = torch.optim.lr_scheduler.ReduceLROnPlateau(\n",
        "    optimizer, mode='min', factor=0.5, patience=10, \n",
        ")\n",
        "\n",
        "# DataLoaders\n",
        "# train_dl, test_dl, train_ds should be defined elsewhere\n",
        "\n",
        "# Training loop with early stopping & checkpointing\n",
        "best_loss = float('inf')\n",
        "no_improve = 0\n",
        "history = []\n",
        "\n",
        "for epoch in range(1, EPOCHS + 1):\n",
        "    model.train()\n",
        "    running_loss = 0.0\n",
        "    for x, _ in tqdm(train_dl, desc=f\"Epoch {epoch}/{EPOCHS}\"):\n",
        "        x = x.to(DEVICE)\n",
        "        optimizer.zero_grad()\n",
        "        outputs = model(x)\n",
        "        loss = criterion(outputs, x)\n",
        "        loss.backward()\n",
        "        optimizer.step()\n",
        "        running_loss += loss.item() * x.size(0)\n",
        "\n",
        "    epoch_loss = running_loss / len(train_ds)\n",
        "    history.append(epoch_loss)\n",
        "    print(f\"Epoch {epoch} Loss: {epoch_loss:.6f}\")\n",
        "\n",
        "    # Scheduler step on loss plateau\n",
        "    scheduler.step(epoch_loss)\n",
        "\n",
        "    # Early stopping check\n",
        "    if best_loss - epoch_loss > MIN_DELTA:\n",
        "        best_loss = epoch_loss\n",
        "        no_improve = 0\n",
        "        # Save best model checkpoint\n",
        "        torch.save({\n",
        "            'epoch': epoch,\n",
        "            'model_state_dict': model.state_dict(),\n",
        "            'optimizer_state_dict': optimizer.state_dict(),\n",
        "            'loss': epoch_loss\n",
        "        }, 'best_model.pt')\n",
        "        print(f\"--> New best model saved at epoch {epoch} with loss {epoch_loss:.6f}\")\n",
        "    else:\n",
        "        no_improve += 1\n",
        "        print(f\"No improvement for {no_improve}/{PATIENCE} epochs.\")\n",
        "        if no_improve >= PATIENCE:\n",
        "            print(f\"Stopping early at epoch {epoch} due to no improvement.\")\n",
        "            break\n"
      ]
    },
    {
      "cell_type": "markdown",
      "metadata": {},
      "source": [
        "## Plot Training Loss"
      ]
    },
    {
      "cell_type": "code",
      "execution_count": 37,
      "metadata": {},
      "outputs": [
        {
          "data": {
            "image/png": "[encoded data removed]",
            "text/plain": [
              "<Figure size 600x300 with 1 Axes>"
            ]
          },
          "metadata": {},
          "output_type": "display_data"
        }
      ],
      "source": [
        "plt.figure(figsize=(6,3))\n",
        "plt.plot(history,marker='o')\n",
        "plt.xlabel('Epoch')\n",
        "plt.ylabel('MSE Loss')\n",
        "plt.show()"
      ]
    },
    {
      "cell_type": "markdown",
      "metadata": {},
      "source": [
        "## Inference & AUC"
      ]
    },
    {
      "cell_type": "code",
      "execution_count": 38,
      "metadata": {},
      "outputs": [
        {
          "name": "stderr",
          "output_type": "stream",
          "text": [
            "Test: 100%|██████████| 3/3 [00:00<00:00, 11.01it/s]"
          ]
        },
        {
          "name": "stdout",
          "output_type": "stream",
          "text": [
            "Test AUC: 0.8845\n"
          ]
        },
        {
          "name": "stderr",
          "output_type": "stream",
          "text": [
            "\n"
          ]
        }
      ],
      "source": [
        "# Load best model for inference\n",
        "checkpoint = torch.load('best_model.pt', map_location=DEVICE)\n",
        "model = PannAE().to(DEVICE)\n",
        "model.load_state_dict(checkpoint['model_state_dict'])\n",
        "model.eval()\n",
        "\n",
        "# Inference and evaluation\n",
        "scores, labels = [], []\n",
        "with torch.no_grad():\n",
        "    for x, y in tqdm(test_dl, desc='Test'):  # evaluation\n",
        "        x = x.to(DEVICE)\n",
        "        recon = model(x)\n",
        "        err = ((x - recon) ** 2).mean(dim=1).cpu().numpy()\n",
        "        scores.extend(err)\n",
        "        labels.extend(y.numpy())\n",
        "\n",
        "auc = roc_auc_score(labels, scores)\n",
        "print(f\"Test AUC: {auc:.4f}\")\n"
      ]
    },
    {
      "cell_type": "markdown",
      "metadata": {},
      "source": [
        "## Error Distribution"
      ]
    },
    {
      "cell_type": "code",
      "execution_count": 39,
      "metadata": {},
      "outputs": [
        {
          "data": {
            "image/png": "[encoded data removed]",
            "text/plain": [
              "<Figure size 600x300 with 1 Axes>"
            ]
          },
          "metadata": {},
          "output_type": "display_data"
        }
      ],
      "source": [
        "norm=[s for s,l in zip(scores,labels) if l==0]\n",
        "anom=[s for s,l in zip(scores,labels) if l==1]\n",
        "plt.figure(figsize=(6,3))\n",
        "plt.hist(norm,bins=50,alpha=0.6,label='normal',log=True)\n",
        "plt.hist(anom,bins=50,alpha=0.6,label='anomaly',log=True)\n",
        "plt.xlabel('MSE')\n",
        "plt.legend()\n",
        "plt.show()"
      ]
    },
    {
      "cell_type": "code",
      "execution_count": null,
      "id": "74b586c6",
      "metadata": {},
      "outputs": [],
      "source": [
        "opt = torch.optim.Adam(model.parameters(), lr=1e-3)\n",
        "crit = nn.MSELoss()\n",
        "EPOCHS = 500\n",
        "\n",
        "# Scheduler + early-stop params\n",
        "scheduler = torch.optim.lr_scheduler.ReduceLROnPlateau(\n",
        "    opt, mode='min', factor=0.5, patience=10, verbose=True\n",
        ")\n",
        "patience = 20      \n",
        "min_delta = 1e-4 \n",
        "\n",
        "history = []\n",
        "best_loss = float('inf')\n",
        "stale_epochs = 0\n",
        "\n",
        "for ep in range(1, EPOCHS+1):\n",
        "    model.train()\n",
        "    total_loss = 0.0\n",
        "    for x, _ in tqdm(train_dl, desc=f'Epoch {ep}/{EPOCHS}', leave=False):\n",
        "        x = x.to(DEVICE)\n",
        "        opt.zero_grad()\n",
        "        out = model(x)\n",
        "        loss = crit(out, x)\n",
        "        loss.backward()\n",
        "        opt.step()\n",
        "        total_loss += loss.item() * x.size(0)\n",
        "\n",
        "    avg = total_loss / len(train_ds)\n",
        "    history.append(avg)\n",
        "    print(f'Epoch {ep:2d} loss={avg:.6f}')\n",
        "\n",
        "    # step the LR scheduler on the validation metric (here train loss)\n",
        "    scheduler.step(avg)\n",
        "\n",
        "    # early-stopping check\n",
        "    if best_loss - avg > min_delta:\n",
        "        best_loss = avg\n",
        "        stale_epochs = 0\n",
        "        print(f\"  ↳ Improvement detected (new best_loss={best_loss:.6f}). Patience reset.\")\n",
        "    else:\n",
        "        stale_epochs += 1\n",
        "        print(f\"  ↳ No significant improvement for {stale_epochs}/{patience} epochs.\")\n",
        "        if stale_epochs >= patience:\n",
        "            print(f\"Early stopping at epoch {ep}: no loss decrease >{min_delta} for {patience} epochs.\")\n",
        "            break\n"
      ]
    }
  ],
  "metadata": {
    "kernelspec": {
      "display_name": "Python 3",
      "name": "python3"
    },
    "language_info": {
      "codemirror_mode": {
        "name": "ipython",
        "version": 3
      },
      "file_extension": ".py",
      "mimetype": "text/x-python",
      "name": "python",
      "nbconvert_exporter": "python",
      "pygments_lexer": "ipython3",
      "version": "3.12.10"
    }
  },
  "nbformat": 4,
  "nbformat_minor": 5
}
